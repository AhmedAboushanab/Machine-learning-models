{
  "nbformat": 4,
  "nbformat_minor": 0,
  "metadata": {
    "colab": {
      "name": "Level_3 taxa_random_forest_classification_model.ipynb",
      "provenance": [],
      "collapsed_sections": [],
      "toc_visible": true,
      "machine_shape": "hm",
      "include_colab_link": true
    },
    "kernelspec": {
      "name": "python3",
      "display_name": "Python 3"
    }
  },
  "cells": [
    {
      "cell_type": "markdown",
      "metadata": {
        "id": "view-in-github",
        "colab_type": "text"
      },
      "source": [
        "<a href=\"https://colab.research.google.com/github/AhmedAboushanab/Machine-learning-models/blob/main/Level_3_taxa_random_forest_classification_model.ipynb\" target=\"_parent\"><img src=\"https://colab.research.google.com/assets/colab-badge.svg\" alt=\"Open In Colab\"/></a>"
      ]
    },
    {
      "cell_type": "markdown",
      "metadata": {
        "id": "0MRC0e0KhQ0S"
      },
      "source": [
        "# Random Forest Classification"
      ]
    },
    {
      "cell_type": "markdown",
      "metadata": {
        "id": "LWd1UlMnhT2s"
      },
      "source": [
        "## Importing the libraries"
      ]
    },
    {
      "cell_type": "code",
      "metadata": {
        "id": "YvGPUQaHhXfL"
      },
      "source": [
        "import numpy as np\n",
        "import matplotlib.pyplot as plt\n",
        "import pandas as pd"
      ],
      "execution_count": 1,
      "outputs": []
    },
    {
      "cell_type": "markdown",
      "metadata": {
        "id": "K1VMqkGvhc3-"
      },
      "source": [
        "## Importing the dataset"
      ]
    },
    {
      "cell_type": "code",
      "metadata": {
        "id": "M52QDmyzhh9s"
      },
      "source": [
        "dataset = pd.read_csv('Total-L3.csv')\n",
        "X = dataset.iloc[:, :-1].values\n",
        "y = dataset.iloc[:, -1].values"
      ],
      "execution_count": 2,
      "outputs": []
    },
    {
      "cell_type": "markdown",
      "metadata": {
        "id": "dNfi8suBsv3Z"
      },
      "source": [
        "\r\n",
        "**Encoding categorical output**"
      ]
    },
    {
      "cell_type": "code",
      "metadata": {
        "id": "Y1jJZzsAsveK"
      },
      "source": [
        "from sklearn.preprocessing import LabelEncoder\r\n",
        "le = LabelEncoder()\r\n",
        "y = le.fit_transform(y)"
      ],
      "execution_count": 3,
      "outputs": []
    },
    {
      "cell_type": "markdown",
      "metadata": {
        "id": "YvxIPVyMhmKp"
      },
      "source": [
        "## Splitting the dataset into the Training set and Test set"
      ]
    },
    {
      "cell_type": "code",
      "metadata": {
        "id": "AVzJWAXIhxoC"
      },
      "source": [
        "from sklearn.model_selection import train_test_split\n",
        "X_train, X_test, y_train, y_test = train_test_split(X, y, test_size = 0.25, random_state = 0)"
      ],
      "execution_count": 4,
      "outputs": []
    },
    {
      "cell_type": "code",
      "metadata": {
        "id": "P3nS3-6r1i2B",
        "colab": {
          "base_uri": "https://localhost:8080/"
        },
        "outputId": "05eaada3-a425-4479-c9eb-b7baa35fad5a"
      },
      "source": [
        "print(X_train)"
      ],
      "execution_count": 5,
      "outputs": [
        {
          "output_type": "stream",
          "text": [
            "[[6.049445e+01 7.123050e+00 2.827982e+01 4.720800e-01 4.763600e-01]\n",
            " [6.058091e+01 1.192676e+01 2.600190e+01 1.411000e-01 6.373000e-02]\n",
            " [6.332390e+00 3.630700e-01 2.930531e+01 5.595700e-01 1.008800e-01]\n",
            " ...\n",
            " [6.317682e+01 3.090800e-01 3.577642e+01 4.623600e-01 3.807000e-02]\n",
            " [5.898015e+01 5.050040e+00 1.833387e+01 4.797200e-01 0.000000e+00]\n",
            " [7.036849e+01 2.026042e+01 7.222120e+00 1.129420e+00 3.157000e-02]]\n"
          ],
          "name": "stdout"
        }
      ]
    },
    {
      "cell_type": "code",
      "metadata": {
        "id": "8dpDLojm1mVG",
        "colab": {
          "base_uri": "https://localhost:8080/"
        },
        "outputId": "45b9847b-6fc9-4139-ab7f-638f8550cdf8"
      },
      "source": [
        "print(y_train)"
      ],
      "execution_count": 6,
      "outputs": [
        {
          "output_type": "stream",
          "text": [
            "[3 3 1 1 1 2 2 3 3 3 1 0 3 3 2 0 2 3 3 1 3 0 1 3 3 3 2 1 3 3 1 3 1 1 0 1 2\n",
            " 3 3 0 1 1 3 0 3 3 3 1 2 3 1 1 2 2 2 3 3 3 1 1 3 2 1 3 3 2 1 3 3 3 3 1 1 2\n",
            " 1 3 3 2 1 1 3 2 3 0 3 3 3 0 1 3 2 3 1 2 3 1 3 1 3 3 3 2 1 0 3 2 3 3 3 3 3\n",
            " 1 3 3 1 0 2 2 3 3 3 3 0 1 2 3 3 3 0 2 3 3 3 3 3 1 3 3 3 2 3 3 3 1 3 2 3 2\n",
            " 2 2 3 1 2 3 2 2 1 2 1 1 0 1 3 3 0 3 2 3 3 3 3 2 1 3 3 0 3 3 0 3 3 3 1 0 1\n",
            " 3 0 1 3 3 2 0 3 3 3 3 3 3 3 2 3 2 3 1 3 3 2 0 2 2 0 2 3 3 3 3 1 0 3 1 3 3\n",
            " 2 1 3 3 3 1 2 3 3 3 0 1 3 3 0 0 1 1 3 3 2 2 1 3 3 1 3 2 3 3 3 3 3 1 1 3 2\n",
            " 0 2 2 3 3 3 0 1 3 3 3 3 0 2 2 3 2 3 2 3 1 3 3 3 3 3 2 3 1 0 3 3 0 3 2 2 2\n",
            " 3 3 3 2 3 3 2 2 2 3 2 2 3 2 3 3 0 3 3 0 3 3 3 1 1 3 2 3 3 2 0 0 2 3 2 2 2\n",
            " 3 3 3 2 2 2 3 3 1 1 2 2 0 1 1 2 3 2 2 1 3 2 2 0 3 2 2 3 2 1 3 0 3 3 3 3 2\n",
            " 3 3 2 3 2 3 1 1 2 3 3 2 2 3 3 3 2 3 2 3 3 3 3 0 2 3 2 2 2 2 3 3 3 1 3 3 3\n",
            " 0 2 1 0 3 3 3 2 3 0 3 1 3 3 3 0 2 0 2 2 2 3 3 0 0 3 3 3 0 2 0 2 2 0 1 3 0\n",
            " 3 3 1 2 2 3 2 2 3 0 2 2 3 1 2 0 0 2 3 2 2 3 2 2 1 1 3 0 1 3 2 1 3 3 3 3 3\n",
            " 1 2 3 2 1 1 2 3 1 1 3 2 0 3 1 3 1 3 3 2 3 2 3 1 2 2 0 2 3 3 3 3 2 2 2 3 2\n",
            " 1 3 2 3 0 3 0 3 0 3 0 3 3 3 2 3 3 0 1 1 3 3 2 3 3 1 3 2 3 1 3 3 2 3 3 3 3\n",
            " 0 3 2 1 3 2 0 0 0 2 3 3 0 2 3 0 3 3 2 3 3 3 3 2 3 3 3 2 3 0 3 3 3 3 2 0 3\n",
            " 3 2 1 2 1 3 0 3 1 3 3 3 3 0 2 3 2 0 3 3 3 3 3 3 1 3 3 3 3 3 2 0 2 3 2 3 2\n",
            " 3 3 0 3 3 3 3 2 3 2 3 3 2 3 0 2 2 2 3 0 3 3 3 3 3 3 0 3 3 2 1 3 3 3 3 3 3\n",
            " 2 3 3 3 2 2 3 3 3 3 2 0 0 2 3 3 3 2 3 0 1 0 3 0 3 2 3 3 3 0 3 3 3 2 0 2 3\n",
            " 3 0 3 2 3 3 3 1 3 3 3 3 2 1 1 3 3 2 1 2 0 1 2 1 1 2 3 3 3 3 1 1 3 2 3 1 3\n",
            " 3 3]\n"
          ],
          "name": "stdout"
        }
      ]
    },
    {
      "cell_type": "code",
      "metadata": {
        "id": "qbb7i0DH1qui",
        "colab": {
          "base_uri": "https://localhost:8080/"
        },
        "outputId": "a21ef086-a68f-499e-f4ee-b2c3738c1b3e"
      },
      "source": [
        "print(X_test)"
      ],
      "execution_count": 7,
      "outputs": [
        {
          "output_type": "stream",
          "text": [
            "[[7.030597e+01 1.151193e+01 1.289688e+01 1.477990e+00 3.323000e-02]\n",
            " [2.217808e+01 1.667790e+00 6.822255e+01 4.481180e+00 1.250000e-03]\n",
            " [4.205322e+01 9.031110e+00 4.681473e+01 1.229200e+00 2.283000e-02]\n",
            " ...\n",
            " [3.105221e+01 1.483600e-01 6.432448e+01 4.527000e-02 4.900000e-04]\n",
            " [6.660927e+01 1.184625e+01 1.856356e+01 1.100900e-01 1.016000e-02]\n",
            " [3.185581e+01 2.670048e+01 2.374339e+01 6.878000e-02 3.558220e+00]]\n"
          ],
          "name": "stdout"
        }
      ]
    },
    {
      "cell_type": "code",
      "metadata": {
        "id": "kj1hnFAR1s5w",
        "colab": {
          "base_uri": "https://localhost:8080/"
        },
        "outputId": "cd59c488-3388-4ecc-bf2b-68f72fb915d9"
      },
      "source": [
        "print(y_test)"
      ],
      "execution_count": 8,
      "outputs": [
        {
          "output_type": "stream",
          "text": [
            "[3 2 3 2 1 3 3 3 3 2 3 1 2 3 1 3 3 1 3 3 3 3 3 3 3 2 3 2 1 3 2 3 0 3 2 3 3\n",
            " 3 3 1 3 2 3 0 1 2 2 3 3 3 3 0 3 1 3 2 2 1 1 2 1 3 3 3 1 2 3 3 1 3 2 1 2 3\n",
            " 3 1 1 0 2 3 2 2 0 2 3 2 0 3 2 1 3 3 2 0 3 1 3 3 2 3 2 1 2 3 3 0 1 3 1 3 2\n",
            " 3 0 2 3 3 3 3 2 3 0 0 3 1 2 3 1 2 2 2 1 3 2 2 3 2 2 3 2 3 3 3 2 1 2 3 2 3\n",
            " 3 1 3 3 0 3 3 3 3 2 3 0 2 3 2 3 3 3 3 3 2 2 3 3 3 1 1 3 3 3 3 2 0 3 3 3 2\n",
            " 2 3 3 3 2 3 3 2 3 3 2 0 3 2 2 0 3 0 2 1 2 3 3 1 3 3 3 3 3 2 2 1 3 3 3 3 3\n",
            " 3 2 2 2 2 3 3 0 1 2 2 3 3 1 2 3 0 3 2 2 3 3 1 0 3 0]\n"
          ],
          "name": "stdout"
        }
      ]
    },
    {
      "cell_type": "markdown",
      "metadata": {
        "id": "bb6jCOCQiAmP"
      },
      "source": [
        "## Training the Random Forest Classification model on the Training set"
      ]
    },
    {
      "cell_type": "code",
      "metadata": {
        "id": "e0pFVAmciHQs",
        "colab": {
          "base_uri": "https://localhost:8080/"
        },
        "outputId": "3b96bd57-e1a0-4ca5-d0cb-188db569ee51"
      },
      "source": [
        "from sklearn.ensemble import RandomForestClassifier\n",
        "classifier = RandomForestClassifier(n_estimators = 10, criterion = 'entropy', random_state = 0)\n",
        "classifier.fit(X_train, y_train)"
      ],
      "execution_count": 9,
      "outputs": [
        {
          "output_type": "execute_result",
          "data": {
            "text/plain": [
              "RandomForestClassifier(bootstrap=True, ccp_alpha=0.0, class_weight=None,\n",
              "                       criterion='entropy', max_depth=None, max_features='auto',\n",
              "                       max_leaf_nodes=None, max_samples=None,\n",
              "                       min_impurity_decrease=0.0, min_impurity_split=None,\n",
              "                       min_samples_leaf=1, min_samples_split=2,\n",
              "                       min_weight_fraction_leaf=0.0, n_estimators=10,\n",
              "                       n_jobs=None, oob_score=False, random_state=0, verbose=0,\n",
              "                       warm_start=False)"
            ]
          },
          "metadata": {
            "tags": []
          },
          "execution_count": 9
        }
      ]
    },
    {
      "cell_type": "markdown",
      "metadata": {
        "id": "vKYVQH-l5NpE"
      },
      "source": [
        "## Predicting the Test set results"
      ]
    },
    {
      "cell_type": "code",
      "metadata": {
        "id": "p6VMTb2O4hwM",
        "colab": {
          "base_uri": "https://localhost:8080/"
        },
        "outputId": "a8e7fb25-36f7-4517-c586-22bdbce9cfc3"
      },
      "source": [
        "y_pred = classifier.predict(X_test)\n",
        "print(np.concatenate((y_pred.reshape(len(y_pred),1), y_test.reshape(len(y_test),1)),1))"
      ],
      "execution_count": 10,
      "outputs": [
        {
          "output_type": "stream",
          "text": [
            "[[3 3]\n",
            " [0 2]\n",
            " [3 3]\n",
            " [2 2]\n",
            " [1 1]\n",
            " [3 3]\n",
            " [3 3]\n",
            " [3 3]\n",
            " [3 3]\n",
            " [3 2]\n",
            " [3 3]\n",
            " [1 1]\n",
            " [2 2]\n",
            " [3 3]\n",
            " [1 1]\n",
            " [3 3]\n",
            " [3 3]\n",
            " [1 1]\n",
            " [3 3]\n",
            " [3 3]\n",
            " [3 3]\n",
            " [2 3]\n",
            " [3 3]\n",
            " [3 3]\n",
            " [2 3]\n",
            " [3 2]\n",
            " [3 3]\n",
            " [1 2]\n",
            " [0 1]\n",
            " [3 3]\n",
            " [3 2]\n",
            " [3 3]\n",
            " [0 0]\n",
            " [3 3]\n",
            " [0 2]\n",
            " [3 3]\n",
            " [3 3]\n",
            " [3 3]\n",
            " [3 3]\n",
            " [1 1]\n",
            " [3 3]\n",
            " [2 2]\n",
            " [3 3]\n",
            " [2 0]\n",
            " [1 1]\n",
            " [2 2]\n",
            " [0 2]\n",
            " [3 3]\n",
            " [3 3]\n",
            " [3 3]\n",
            " [3 3]\n",
            " [3 0]\n",
            " [3 3]\n",
            " [0 1]\n",
            " [3 3]\n",
            " [0 2]\n",
            " [2 2]\n",
            " [1 1]\n",
            " [1 1]\n",
            " [3 2]\n",
            " [1 1]\n",
            " [3 3]\n",
            " [2 3]\n",
            " [3 3]\n",
            " [1 1]\n",
            " [2 2]\n",
            " [3 3]\n",
            " [2 3]\n",
            " [0 1]\n",
            " [3 3]\n",
            " [3 2]\n",
            " [0 1]\n",
            " [0 2]\n",
            " [2 3]\n",
            " [3 3]\n",
            " [1 1]\n",
            " [1 1]\n",
            " [0 0]\n",
            " [0 2]\n",
            " [3 3]\n",
            " [0 2]\n",
            " [2 2]\n",
            " [0 0]\n",
            " [2 2]\n",
            " [3 3]\n",
            " [2 2]\n",
            " [2 0]\n",
            " [3 3]\n",
            " [3 2]\n",
            " [0 1]\n",
            " [3 3]\n",
            " [1 3]\n",
            " [2 2]\n",
            " [0 0]\n",
            " [3 3]\n",
            " [0 1]\n",
            " [3 3]\n",
            " [3 3]\n",
            " [3 2]\n",
            " [3 3]\n",
            " [2 2]\n",
            " [1 1]\n",
            " [0 2]\n",
            " [3 3]\n",
            " [3 3]\n",
            " [1 0]\n",
            " [1 1]\n",
            " [3 3]\n",
            " [1 1]\n",
            " [3 3]\n",
            " [2 2]\n",
            " [3 3]\n",
            " [1 0]\n",
            " [2 2]\n",
            " [1 3]\n",
            " [3 3]\n",
            " [3 3]\n",
            " [1 3]\n",
            " [2 2]\n",
            " [3 3]\n",
            " [0 0]\n",
            " [0 0]\n",
            " [3 3]\n",
            " [1 1]\n",
            " [2 2]\n",
            " [2 3]\n",
            " [0 1]\n",
            " [2 2]\n",
            " [3 2]\n",
            " [2 2]\n",
            " [0 1]\n",
            " [3 3]\n",
            " [2 2]\n",
            " [3 2]\n",
            " [3 3]\n",
            " [1 2]\n",
            " [0 2]\n",
            " [3 3]\n",
            " [2 2]\n",
            " [3 3]\n",
            " [3 3]\n",
            " [3 3]\n",
            " [2 2]\n",
            " [3 1]\n",
            " [0 2]\n",
            " [3 3]\n",
            " [2 2]\n",
            " [3 3]\n",
            " [3 3]\n",
            " [1 1]\n",
            " [3 3]\n",
            " [2 3]\n",
            " [0 0]\n",
            " [3 3]\n",
            " [2 3]\n",
            " [0 3]\n",
            " [3 3]\n",
            " [1 2]\n",
            " [3 3]\n",
            " [0 0]\n",
            " [2 2]\n",
            " [3 3]\n",
            " [0 2]\n",
            " [3 3]\n",
            " [3 3]\n",
            " [3 3]\n",
            " [3 3]\n",
            " [3 3]\n",
            " [2 2]\n",
            " [0 2]\n",
            " [3 3]\n",
            " [3 3]\n",
            " [3 3]\n",
            " [2 1]\n",
            " [1 1]\n",
            " [3 3]\n",
            " [3 3]\n",
            " [3 3]\n",
            " [3 3]\n",
            " [2 2]\n",
            " [0 0]\n",
            " [2 3]\n",
            " [3 3]\n",
            " [3 3]\n",
            " [0 2]\n",
            " [2 2]\n",
            " [2 3]\n",
            " [3 3]\n",
            " [3 3]\n",
            " [3 2]\n",
            " [3 3]\n",
            " [3 3]\n",
            " [3 2]\n",
            " [2 3]\n",
            " [2 3]\n",
            " [1 2]\n",
            " [0 0]\n",
            " [2 3]\n",
            " [3 2]\n",
            " [0 2]\n",
            " [0 0]\n",
            " [3 3]\n",
            " [0 0]\n",
            " [2 2]\n",
            " [1 1]\n",
            " [2 2]\n",
            " [3 3]\n",
            " [3 3]\n",
            " [1 1]\n",
            " [3 3]\n",
            " [3 3]\n",
            " [3 3]\n",
            " [2 3]\n",
            " [3 3]\n",
            " [2 2]\n",
            " [3 2]\n",
            " [1 1]\n",
            " [2 3]\n",
            " [3 3]\n",
            " [3 3]\n",
            " [3 3]\n",
            " [3 3]\n",
            " [3 3]\n",
            " [2 2]\n",
            " [0 2]\n",
            " [2 2]\n",
            " [1 2]\n",
            " [3 3]\n",
            " [2 3]\n",
            " [0 0]\n",
            " [2 1]\n",
            " [3 2]\n",
            " [3 2]\n",
            " [2 3]\n",
            " [2 3]\n",
            " [1 1]\n",
            " [0 2]\n",
            " [3 3]\n",
            " [0 0]\n",
            " [3 3]\n",
            " [2 2]\n",
            " [3 2]\n",
            " [3 3]\n",
            " [3 3]\n",
            " [0 1]\n",
            " [0 0]\n",
            " [3 3]\n",
            " [3 0]]\n"
          ],
          "name": "stdout"
        }
      ]
    },
    {
      "cell_type": "markdown",
      "metadata": {
        "id": "h4Hwj34ziWQW"
      },
      "source": [
        "## Making the Confusion Matrix"
      ]
    },
    {
      "cell_type": "code",
      "metadata": {
        "id": "D6bpZwUiiXic",
        "colab": {
          "base_uri": "https://localhost:8080/"
        },
        "outputId": "e3221002-9e95-404f-a445-15b10095719b"
      },
      "source": [
        "from sklearn.metrics import confusion_matrix, accuracy_score\n",
        "cm = confusion_matrix(y_test, y_pred)\n",
        "print(cm)\n",
        "accuracy_score(y_test, y_pred)"
      ],
      "execution_count": 11,
      "outputs": [
        {
          "output_type": "stream",
          "text": [
            "[[ 15   2   2   2]\n",
            " [  9  22   2   1]\n",
            " [ 16   5  31  16]\n",
            " [  1   3  18 103]]\n"
          ],
          "name": "stdout"
        },
        {
          "output_type": "execute_result",
          "data": {
            "text/plain": [
              "0.6895161290322581"
            ]
          },
          "metadata": {
            "tags": []
          },
          "execution_count": 11
        }
      ]
    }
  ]
}