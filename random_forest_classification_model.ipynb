{
  "nbformat": 4,
  "nbformat_minor": 0,
  "metadata": {
    "colab": {
      "name": "random_forest_classification_model.ipynb",
      "provenance": [],
      "collapsed_sections": [],
      "toc_visible": true,
      "machine_shape": "hm",
      "include_colab_link": true
    },
    "kernelspec": {
      "name": "python3",
      "display_name": "Python 3"
    }
  },
  "cells": [
    {
      "cell_type": "markdown",
      "metadata": {
        "id": "view-in-github",
        "colab_type": "text"
      },
      "source": [
        "<a href=\"https://colab.research.google.com/github/AhmedAboushanab/Machine-learning-models/blob/main/random_forest_classification_model.ipynb\" target=\"_parent\"><img src=\"https://colab.research.google.com/assets/colab-badge.svg\" alt=\"Open In Colab\"/></a>"
      ]
    },
    {
      "cell_type": "markdown",
      "metadata": {
        "id": "0MRC0e0KhQ0S"
      },
      "source": [
        "# Random Forest Classification"
      ]
    },
    {
      "cell_type": "markdown",
      "metadata": {
        "id": "LWd1UlMnhT2s"
      },
      "source": [
        "## Importing the libraries"
      ]
    },
    {
      "cell_type": "code",
      "metadata": {
        "id": "YvGPUQaHhXfL"
      },
      "source": [
        "import numpy as np\n",
        "import matplotlib.pyplot as plt\n",
        "import pandas as pd"
      ],
      "execution_count": 1,
      "outputs": []
    },
    {
      "cell_type": "markdown",
      "metadata": {
        "id": "K1VMqkGvhc3-"
      },
      "source": [
        "## Importing the dataset"
      ]
    },
    {
      "cell_type": "code",
      "metadata": {
        "id": "M52QDmyzhh9s"
      },
      "source": [
        "dataset = pd.read_csv('Total.csv')\n",
        "X = dataset.iloc[:, :-1].values\n",
        "y = dataset.iloc[:, -1].values"
      ],
      "execution_count": 2,
      "outputs": []
    },
    {
      "cell_type": "markdown",
      "metadata": {
        "id": "dNfi8suBsv3Z"
      },
      "source": [
        "\r\n",
        "**Encoding categorical output**"
      ]
    },
    {
      "cell_type": "code",
      "metadata": {
        "id": "Y1jJZzsAsveK"
      },
      "source": [
        "from sklearn.preprocessing import LabelEncoder\r\n",
        "le = LabelEncoder()\r\n",
        "y = le.fit_transform(y)"
      ],
      "execution_count": 3,
      "outputs": []
    },
    {
      "cell_type": "markdown",
      "metadata": {
        "id": "YvxIPVyMhmKp"
      },
      "source": [
        "## Splitting the dataset into the Training set and Test set"
      ]
    },
    {
      "cell_type": "code",
      "metadata": {
        "id": "AVzJWAXIhxoC"
      },
      "source": [
        "from sklearn.model_selection import train_test_split\n",
        "X_train, X_test, y_train, y_test = train_test_split(X, y, test_size = 0.25, random_state = 0)"
      ],
      "execution_count": 4,
      "outputs": []
    },
    {
      "cell_type": "code",
      "metadata": {
        "id": "P3nS3-6r1i2B",
        "colab": {
          "base_uri": "https://localhost:8080/"
        },
        "outputId": "3faed08a-0a9d-4ea9-e92d-25d49283a3cf"
      },
      "source": [
        "print(X_train)"
      ],
      "execution_count": 5,
      "outputs": [
        {
          "output_type": "stream",
          "text": [
            "[[35.099       0.13618    59.21308     5.55174    35.46214824 12.07654258]\n",
            " [11.84388     0.33033    71.30551    13.59813    35.46214824 12.07654258]\n",
            " [12.28782     1.75342    79.69508     1.58847    10.4543308   4.71508207]\n",
            " ...\n",
            " [20.79023     0.50593    44.67264    14.03005    35.46214824 12.07654258]\n",
            " [18.83287     2.71046    69.46467     2.20033    10.4543308   4.71508207]\n",
            " [73.42044     5.1794     19.7647      1.62367     5.90487763  4.52358037]]\n"
          ],
          "name": "stdout"
        }
      ]
    },
    {
      "cell_type": "code",
      "metadata": {
        "id": "8dpDLojm1mVG",
        "colab": {
          "base_uri": "https://localhost:8080/"
        },
        "outputId": "de2bf0e5-dfda-4fca-8ca9-1cd02b679f4a"
      },
      "source": [
        "print(y_train)"
      ],
      "execution_count": 6,
      "outputs": [
        {
          "output_type": "stream",
          "text": [
            "[3 3 2 3 0 2 0 3 1 0 2 2 1 3 2 3 3 3 3 3 3 1 3 2 2 1 3 2 3 3 2 3 0 2 2 3 3\n",
            " 3 3 2 0 3 3 2 3 3 2 3 3 1 2 3 3 2 3 3 3 3 0 2 2 2 0 3 0 3 0 0 3 1 3 2 2 2\n",
            " 3 3 3 3 3 3 2 1 2 1 3 1 3 0 1 3 3 1 3 3 3 3 3 2 3 3 2 0 2 3 3 3 3 0 3 3 2\n",
            " 3 1 3 2 3 0 3 2 2 3 3 3 3 2 1 3 2 1 3 3 0 3 2 3 1 2 1 0 1 3 3 0 2 3 3 2 3\n",
            " 3 2 3 2 3 3 1 2 3 3 3 2 2 1 1 3 3 2 3 3 3 3 2 3 2 1 3 3 3 0 2 1 3 0 3 2 3\n",
            " 3 1 3 3 2 1 1 3 2 2 2 0 3 3 3 2 3 3 2 2 1 2 2 3 2 3 3 3 3 2 2 1 3 1 3 3 2\n",
            " 1 2 1 2 2 1 0 0 2 1 2 0 0 1 3 2 3 3 3 2 3 3 1 1 3 3 2 1 1 2 3 2 0 2 3 1 0\n",
            " 2 1 0 0 3 3 3 3 3 2 2 3 3 3 3 3 3 1 1 3 2 0 0 0 2 3 3 3 0 0 0 3 3 1 2 3 1\n",
            " 0 3 1 3 1 0 0 1 2 3 1 3 0 3 0 3 3 1 2 1 1 2 3 2 2 3 3 3 2 3 3 1 0 0 3 3 3\n",
            " 0 2 1 3 3 1 3 2 2 2 3 3 3 3 3 1 0 2 0 3 3 3 3 3 3 3 3 3 3 2 3 3 0 3 3 0 3\n",
            " 0 1 2 1 3 3 0 3 3 3 0 2 3 1 3 1 3 0 3 1 0 2 3 3 2 3 3 2 1 3 2 3 2 3 2 3 3\n",
            " 3 2 2 1 0 3 3 0 2 0 3 2 0 3 3 2 3 3 3 3 3 1 2 1 1 3 1 2 3 3 3 3 3 2 3 2 0\n",
            " 3 2 3 0 2 2 1 2 3 3 2 3 3 2 3 2 2 3 0 3 1 3 1 1 3 1 1 3 0 3 2 3 0 2 3 2 3\n",
            " 1 3 1 0 2 2 3 1 3 2 0 3 2 3 3 0 3 3 0 3 2 1 3 2 3 2 3 3 3 3 3 3 3 2 3 3 0\n",
            " 2 0 2 1 2 3 0 2 1 3 3 0 3 2 3 0 3 2 3 3 3 3 3 3 1 0 3 2 3 2 2 1 0 3 3 3 3\n",
            " 2 3 1 3 1 2 3 0 2 3 3 0 1 3 2 2 3 1 3 3 1 3 2 1 0 2 0 3 3 0 3 3 3 3 3 0 2\n",
            " 3 2 3 3 3 2 2 3 3 3 3 3 2 1 3 3 3 1 3 0 3 3 3 2 2 1 2 2 3 3 3 3 3 3 3 0 1\n",
            " 1 2 3 3 1 2 3 2 3 3 3 2 3 1 2 2 3 3 3 0 1 3 3 3 1 2 2 2 3 3 2 3 3 3 3 2 1\n",
            " 3 2 3 3 3 3 3 3 2 3 3 3 1 3 3 1 3 2 2 3 0 3 3 3 2 3 3 1 3 1 2 0 1 1 1 3 3\n",
            " 0 2 1 1 1 2 1 3 2 0 2 3 2 2 3 0 3 3 3 2 3 3 3 2 2 3 3 0 3 1 3 3 3 3 0 1 3\n",
            " 2 2]\n"
          ],
          "name": "stdout"
        }
      ]
    },
    {
      "cell_type": "code",
      "metadata": {
        "id": "qbb7i0DH1qui",
        "colab": {
          "base_uri": "https://localhost:8080/"
        },
        "outputId": "ab2b9e11-f71e-465c-bebe-4168534925d4"
      },
      "source": [
        "print(X_test)"
      ],
      "execution_count": 7,
      "outputs": [
        {
          "output_type": "stream",
          "text": [
            "[[7.79753000e+00 3.24340000e-01 6.32256000e+01 2.27862400e+01\n",
            "  5.82066327e+01 1.44106155e+01]\n",
            " [3.50761900e+01 1.10357400e+01 3.49278600e+01 1.89602100e+01\n",
            "  7.77365833e+00 1.54313552e+00]\n",
            " [1.34241600e+01 3.22970000e-01 7.35436600e+01 1.24903000e+01\n",
            "  5.82066327e+01 1.44106155e+01]\n",
            " ...\n",
            " [1.27456647e-01 1.64450867e-01 6.76589595e-01 1.15606900e-03\n",
            "  3.47372817e+00 4.56380750e+00]\n",
            " [7.65530600e+01 1.61469000e+00 1.28941600e+01 2.24677000e+00\n",
            "  5.90487763e+00 4.52358037e+00]\n",
            " [6.25398000e+00 2.95260000e-01 4.97076300e+01 4.37431200e+01\n",
            "  3.54621482e+01 1.20765426e+01]]\n"
          ],
          "name": "stdout"
        }
      ]
    },
    {
      "cell_type": "code",
      "metadata": {
        "id": "kj1hnFAR1s5w",
        "colab": {
          "base_uri": "https://localhost:8080/"
        },
        "outputId": "22706ad3-7ac2-473d-f9af-0d3e6cfe52f6"
      },
      "source": [
        "print(y_test)"
      ],
      "execution_count": 8,
      "outputs": [
        {
          "output_type": "stream",
          "text": [
            "[3 1 3 3 3 3 3 3 3 3 3 3 1 3 2 3 3 1 1 0 1 3 3 2 2 2 2 3 3 2 1 3 3 3 3 3 3\n",
            " 3 2 2 2 2 3 2 3 2 3 2 3 3 3 1 3 3 3 3 2 3 3 0 2 2 2 2 2 2 2 3 2 3 3 2 3 3\n",
            " 2 1 1 1 0 3 0 2 3 2 3 2 0 3 0 3 3 2 0 0 1 1 3 3 3 3 2 3 1 3 1 2 3 2 3 2 2\n",
            " 1 1 3 3 2 2 2 2 1 2 3 3 1 3 3 3 0 3 3 3 3 3 3 3 3 3 3 3 1 3 0 2 3 2 2 3 3\n",
            " 3 1 2 1 3 0 2 3 2 3 3 3 3 3 3 3 2 1 2 3 1 0 3 0 3 1 0 3 2 3 2 3 3 1 3 3 3\n",
            " 3 2 2 3 3 3 1 0 2 3 0 3 0 2 3 3 3 3 1 2 1 2 3 3 2 2 1 3 3 3 3 2 3 2 3 2 3\n",
            " 2 3 3 3 1 3 1 2 3 0 3 3 2 1 3 0 1 3 2 1 3 2 3 1 2 3]\n"
          ],
          "name": "stdout"
        }
      ]
    },
    {
      "cell_type": "markdown",
      "metadata": {
        "id": "bb6jCOCQiAmP"
      },
      "source": [
        "## Training the Random Forest Classification model on the Training set"
      ]
    },
    {
      "cell_type": "code",
      "metadata": {
        "id": "e0pFVAmciHQs",
        "colab": {
          "base_uri": "https://localhost:8080/"
        },
        "outputId": "f7e2eccd-8692-4308-d6c6-5aa70eb4bed8"
      },
      "source": [
        "from sklearn.ensemble import RandomForestClassifier\n",
        "classifier = RandomForestClassifier(n_estimators = 10, criterion = 'entropy', random_state = 0)\n",
        "classifier.fit(X_train, y_train)"
      ],
      "execution_count": 9,
      "outputs": [
        {
          "output_type": "execute_result",
          "data": {
            "text/plain": [
              "RandomForestClassifier(bootstrap=True, ccp_alpha=0.0, class_weight=None,\n",
              "                       criterion='entropy', max_depth=None, max_features='auto',\n",
              "                       max_leaf_nodes=None, max_samples=None,\n",
              "                       min_impurity_decrease=0.0, min_impurity_split=None,\n",
              "                       min_samples_leaf=1, min_samples_split=2,\n",
              "                       min_weight_fraction_leaf=0.0, n_estimators=10,\n",
              "                       n_jobs=None, oob_score=False, random_state=0, verbose=0,\n",
              "                       warm_start=False)"
            ]
          },
          "metadata": {
            "tags": []
          },
          "execution_count": 9
        }
      ]
    },
    {
      "cell_type": "markdown",
      "metadata": {
        "id": "vKYVQH-l5NpE"
      },
      "source": [
        "## Predicting the Test set results"
      ]
    },
    {
      "cell_type": "code",
      "metadata": {
        "id": "p6VMTb2O4hwM",
        "colab": {
          "base_uri": "https://localhost:8080/"
        },
        "outputId": "5f8bfe35-6dcf-4f17-cd6a-dd12fd6c34db"
      },
      "source": [
        "y_pred = classifier.predict(X_test)\n",
        "print(np.concatenate((y_pred.reshape(len(y_pred),1), y_test.reshape(len(y_test),1)),1))"
      ],
      "execution_count": 10,
      "outputs": [
        {
          "output_type": "stream",
          "text": [
            "[[3 3]\n",
            " [1 1]\n",
            " [3 3]\n",
            " [3 3]\n",
            " [3 3]\n",
            " [3 3]\n",
            " [3 3]\n",
            " [3 3]\n",
            " [3 3]\n",
            " [3 3]\n",
            " [3 3]\n",
            " [3 3]\n",
            " [1 1]\n",
            " [3 3]\n",
            " [2 2]\n",
            " [3 3]\n",
            " [3 3]\n",
            " [1 1]\n",
            " [1 1]\n",
            " [0 0]\n",
            " [1 1]\n",
            " [3 3]\n",
            " [3 3]\n",
            " [2 2]\n",
            " [2 2]\n",
            " [2 2]\n",
            " [2 2]\n",
            " [3 3]\n",
            " [3 3]\n",
            " [2 2]\n",
            " [1 1]\n",
            " [3 3]\n",
            " [3 3]\n",
            " [3 3]\n",
            " [3 3]\n",
            " [3 3]\n",
            " [3 3]\n",
            " [3 3]\n",
            " [2 2]\n",
            " [2 2]\n",
            " [2 2]\n",
            " [2 2]\n",
            " [3 3]\n",
            " [2 2]\n",
            " [3 3]\n",
            " [2 2]\n",
            " [3 3]\n",
            " [2 2]\n",
            " [3 3]\n",
            " [3 3]\n",
            " [3 3]\n",
            " [1 1]\n",
            " [3 3]\n",
            " [3 3]\n",
            " [3 3]\n",
            " [3 3]\n",
            " [2 2]\n",
            " [3 3]\n",
            " [3 3]\n",
            " [0 0]\n",
            " [2 2]\n",
            " [2 2]\n",
            " [2 2]\n",
            " [2 2]\n",
            " [2 2]\n",
            " [2 2]\n",
            " [2 2]\n",
            " [3 3]\n",
            " [2 2]\n",
            " [3 3]\n",
            " [3 3]\n",
            " [2 2]\n",
            " [3 3]\n",
            " [3 3]\n",
            " [2 2]\n",
            " [1 1]\n",
            " [1 1]\n",
            " [1 1]\n",
            " [0 0]\n",
            " [3 3]\n",
            " [0 0]\n",
            " [2 2]\n",
            " [3 3]\n",
            " [2 2]\n",
            " [3 3]\n",
            " [2 2]\n",
            " [0 0]\n",
            " [3 3]\n",
            " [0 0]\n",
            " [3 3]\n",
            " [3 3]\n",
            " [2 2]\n",
            " [0 0]\n",
            " [0 0]\n",
            " [1 1]\n",
            " [1 1]\n",
            " [3 3]\n",
            " [3 3]\n",
            " [3 3]\n",
            " [3 3]\n",
            " [2 2]\n",
            " [3 3]\n",
            " [1 1]\n",
            " [3 3]\n",
            " [1 1]\n",
            " [2 2]\n",
            " [3 3]\n",
            " [2 2]\n",
            " [3 3]\n",
            " [2 2]\n",
            " [2 2]\n",
            " [1 1]\n",
            " [1 1]\n",
            " [3 3]\n",
            " [3 3]\n",
            " [2 2]\n",
            " [2 2]\n",
            " [2 2]\n",
            " [2 2]\n",
            " [1 1]\n",
            " [2 2]\n",
            " [3 3]\n",
            " [3 3]\n",
            " [1 1]\n",
            " [3 3]\n",
            " [3 3]\n",
            " [3 3]\n",
            " [0 0]\n",
            " [3 3]\n",
            " [3 3]\n",
            " [3 3]\n",
            " [3 3]\n",
            " [3 3]\n",
            " [3 3]\n",
            " [3 3]\n",
            " [3 3]\n",
            " [3 3]\n",
            " [3 3]\n",
            " [3 3]\n",
            " [1 1]\n",
            " [3 3]\n",
            " [0 0]\n",
            " [2 2]\n",
            " [3 3]\n",
            " [2 2]\n",
            " [2 2]\n",
            " [3 3]\n",
            " [3 3]\n",
            " [3 3]\n",
            " [1 1]\n",
            " [2 2]\n",
            " [1 1]\n",
            " [3 3]\n",
            " [0 0]\n",
            " [2 2]\n",
            " [3 3]\n",
            " [2 2]\n",
            " [3 3]\n",
            " [3 3]\n",
            " [3 3]\n",
            " [3 3]\n",
            " [3 3]\n",
            " [3 3]\n",
            " [3 3]\n",
            " [2 2]\n",
            " [1 1]\n",
            " [2 2]\n",
            " [3 3]\n",
            " [1 1]\n",
            " [0 0]\n",
            " [3 3]\n",
            " [0 0]\n",
            " [3 3]\n",
            " [1 1]\n",
            " [0 0]\n",
            " [3 3]\n",
            " [2 2]\n",
            " [3 3]\n",
            " [2 2]\n",
            " [3 3]\n",
            " [3 3]\n",
            " [1 1]\n",
            " [3 3]\n",
            " [3 3]\n",
            " [3 3]\n",
            " [3 3]\n",
            " [2 2]\n",
            " [2 2]\n",
            " [3 3]\n",
            " [3 3]\n",
            " [3 3]\n",
            " [1 1]\n",
            " [0 0]\n",
            " [2 2]\n",
            " [3 3]\n",
            " [0 0]\n",
            " [3 3]\n",
            " [0 0]\n",
            " [2 2]\n",
            " [3 3]\n",
            " [3 3]\n",
            " [3 3]\n",
            " [3 3]\n",
            " [1 1]\n",
            " [2 2]\n",
            " [1 1]\n",
            " [2 2]\n",
            " [3 3]\n",
            " [3 3]\n",
            " [2 2]\n",
            " [2 2]\n",
            " [1 1]\n",
            " [3 3]\n",
            " [3 3]\n",
            " [3 3]\n",
            " [3 3]\n",
            " [2 2]\n",
            " [3 3]\n",
            " [2 2]\n",
            " [3 3]\n",
            " [2 2]\n",
            " [3 3]\n",
            " [2 2]\n",
            " [3 3]\n",
            " [3 3]\n",
            " [3 3]\n",
            " [1 1]\n",
            " [3 3]\n",
            " [1 1]\n",
            " [2 2]\n",
            " [3 3]\n",
            " [0 0]\n",
            " [3 3]\n",
            " [3 3]\n",
            " [2 2]\n",
            " [1 1]\n",
            " [3 3]\n",
            " [0 0]\n",
            " [1 1]\n",
            " [3 3]\n",
            " [2 2]\n",
            " [1 1]\n",
            " [3 3]\n",
            " [2 2]\n",
            " [3 3]\n",
            " [1 1]\n",
            " [2 2]\n",
            " [3 3]]\n"
          ],
          "name": "stdout"
        }
      ]
    },
    {
      "cell_type": "markdown",
      "metadata": {
        "id": "h4Hwj34ziWQW"
      },
      "source": [
        "## Making the Confusion Matrix"
      ]
    },
    {
      "cell_type": "code",
      "metadata": {
        "id": "D6bpZwUiiXic",
        "colab": {
          "base_uri": "https://localhost:8080/"
        },
        "outputId": "f76d1deb-f01c-4418-af94-09c187498246"
      },
      "source": [
        "from sklearn.metrics import confusion_matrix, accuracy_score\n",
        "cm = confusion_matrix(y_test, y_pred)\n",
        "print(cm)\n",
        "accuracy_score(y_test, y_pred)"
      ],
      "execution_count": 11,
      "outputs": [
        {
          "output_type": "stream",
          "text": [
            "[[ 19   0   0   0]\n",
            " [  0  35   0   0]\n",
            " [  0   0  65   0]\n",
            " [  0   0   0 129]]\n"
          ],
          "name": "stdout"
        },
        {
          "output_type": "execute_result",
          "data": {
            "text/plain": [
              "1.0"
            ]
          },
          "metadata": {
            "tags": []
          },
          "execution_count": 11
        }
      ]
    }
  ]
}