{
  "nbformat": 4,
  "nbformat_minor": 0,
  "metadata": {
    "colab": {
      "name": "Logistic_Regression_Model.ipynb",
      "provenance": [],
      "collapsed_sections": [],
      "toc_visible": true,
      "machine_shape": "hm",
      "include_colab_link": true
    },
    "kernelspec": {
      "name": "python3",
      "display_name": "Python 3"
    }
  },
  "cells": [
    {
      "cell_type": "markdown",
      "metadata": {
        "id": "view-in-github",
        "colab_type": "text"
      },
      "source": [
        "<a href=\"https://colab.research.google.com/github/AhmedAboushanab/Machine-learning-models/blob/main/Logistic_Regression_Model.ipynb\" target=\"_parent\"><img src=\"https://colab.research.google.com/assets/colab-badge.svg\" alt=\"Open In Colab\"/></a>"
      ]
    },
    {
      "cell_type": "markdown",
      "metadata": {
        "id": "0MRC0e0KhQ0S"
      },
      "source": [
        "# Logistic Regression"
      ]
    },
    {
      "cell_type": "markdown",
      "metadata": {
        "id": "LWd1UlMnhT2s"
      },
      "source": [
        "## Importing the libraries"
      ]
    },
    {
      "cell_type": "code",
      "metadata": {
        "id": "YvGPUQaHhXfL"
      },
      "source": [
        "import numpy as np\n",
        "import matplotlib.pyplot as plt\n",
        "import pandas as pd"
      ],
      "execution_count": null,
      "outputs": []
    },
    {
      "cell_type": "markdown",
      "metadata": {
        "id": "K1VMqkGvhc3-"
      },
      "source": [
        "## Importing the dataset"
      ]
    },
    {
      "cell_type": "code",
      "metadata": {
        "id": "M52QDmyzhh9s"
      },
      "source": [
        "dataset = pd.read_csv('Total.csv')\n",
        "X = dataset.iloc[:, :-1].values\n",
        "y = dataset.iloc[:, -1].values"
      ],
      "execution_count": null,
      "outputs": []
    },
    {
      "cell_type": "markdown",
      "metadata": {
        "id": "9Hxph7OegUyP"
      },
      "source": [
        "**Encoding categorical output**"
      ]
    },
    {
      "cell_type": "code",
      "metadata": {
        "id": "aYTXB7ZIgTMK"
      },
      "source": [
        "from sklearn.preprocessing import LabelEncoder\r\n",
        "le = LabelEncoder()\r\n",
        "y = le.fit_transform(y)"
      ],
      "execution_count": null,
      "outputs": []
    },
    {
      "cell_type": "code",
      "metadata": {
        "colab": {
          "base_uri": "https://localhost:8080/"
        },
        "id": "nl5VaEYMgiKv",
        "outputId": "6b81bf66-3475-4baa-b611-7a6a6ef45631"
      },
      "source": [
        "print(y)"
      ],
      "execution_count": null,
      "outputs": [
        {
          "output_type": "stream",
          "text": [
            "[2 1 0 1 1 3 3 2 0 3 0 3 1 3 3 3 1 3 3 1 2 1 3 3 3 3 3 3 3 2 0 3 0 1 1 0 3\n",
            " 3 2 2 1 3 2 3 3 3 3 2 0 2 2 2 3 3 3 3 3 3 2 3 2 3 3 3 2 3 3 3 3 3 2 0 0 3\n",
            " 3 1 3 3 3 2 3 3 2 3 0 3 3 3 1 3 2 2 2 3 3 3 1 1 3 3 0 3 3 3 3 3 2 3 3 0 3\n",
            " 0 1 0 3 1 3 3 2 3 0 2 0 3 3 3 2 1 1 3 1 1 3 1 0 0 2 3 3 1 2 2 1 3 3 3 0 0\n",
            " 2 1 2 0 0 3 2 3 2 3 1 2 1 3 3 3 2 1 2 3 2 1 3 3 1 2 0 3 1 3 1 2 2 3 2 1 3\n",
            " 2 2 2 3 3 2 2 1 2 3 3 2 3 3 3 1 3 3 3 2 2 1 0 3 3 2 3 3 0 2 2 3 3 2 3 1 3\n",
            " 3 1 2 1 2 2 3 3 2 2 1 3 3 0 3 1 2 3 2 3 0 3 3 2 2 3 2 3 1 3 3 3 0 2 3 3 2\n",
            " 2 3 3 1 3 2 1 0 3 1 0 3 1 0 3 2 2 1 3 1 3 3 1 0 1 3 3 2 3 3 3 1 3 3 0 3 3\n",
            " 3 2 3 2 2 3 3 2 3 2 2 3 3 2 2 3 3 1 3 2 0 1 0 2 3 3 2 3 3 3 3 1 2 2 2 2 2\n",
            " 3 3 3 3 3 2 3 2 0 1 1 2 3 2 3 1 3 3 3 3 3 1 3 3 3 3 3 2 0 1 3 2 0 3 2 3 3\n",
            " 3 3 3 1 3 1 3 2 2 3 3 3 1 3 3 1 2 1 3 2 3 3 2 1 3 3 3 1 3 0 2 3 3 3 3 0 3\n",
            " 0 1 2 1 3 1 2 3 3 3 1 3 0 2 3 3 1 3 3 3 2 3 0 2 1 2 2 3 3 3 3 2 1 2 1 3 3\n",
            " 1 3 2 2 2 3 3 3 3 2 3 3 3 0 3 2 1 2 3 3 3 1 3 3 3 0 0 2 2 2 2 0 3 3 2 3 0\n",
            " 1 3 3 2 3 3 1 3 2 3 3 3 3 2 3 3 2 3 3 3 1 3 2 3 3 2 0 0 3 2 2 0 2 3 3 3 3\n",
            " 2 3 3 3 3 2 2 3 0 3 3 1 1 3 3 2 1 2 3 3 2 2 0 0 2 3 2 3 3 3 2 2 2 3 1 0 2\n",
            " 1 3 2 3 2 3 2 3 3 3 3 0 1 2 2 3 3 2 0 3 0 3 2 3 1 3 1 3 0 3 1 3 3 3 2 3 0\n",
            " 0 2 3 3 1 3 2 3 3 3 3 2 2 2 3 3 3 2 2 3 3 3 3 2 0 3 0 1 0 3 3 3 3 1 3 3 3\n",
            " 3 2 3 2 1 3 3 3 1 1 3 0 1 3 3 0 3 3 2 1 3 1 3 3 3 0 3 0 3 0 1 3 3 1 1 2 3\n",
            " 0 3 2 2 0 3 3 2 3 3 3 2 2 3 1 3 3 2 2 3 3 1 3 1 3 3 1 1 0 2 2 3 2 3 3 3 2\n",
            " 3 3 2 3 3 0 1 2 3 0 0 3 2 3 2 0 2 1 3 1 1 3 3 2 3 1 3 3 2 3 3 3 2 1 2 2 2\n",
            " 1 0 3 3 3 3 3 3 3 0 1 2 0 3 0 2 3 3 1 3 3 2 2 3 3 3 0 0 1 3 0 1 3 2 3 2 3\n",
            " 2 3 3 2 2 2 1 2 2 3 3 2 2 3 3 2 1 3 1 3 1 3 1 0 2 3 0 3 3 1 3 3 2 0 2 3 3\n",
            " 3 3 2 0 1 0 3 3 3 3 2 2 2 1 1 2 3 3 0 3 3 0 3 1 3 3 3 3 0 3 3 2 3 1 0 2 0\n",
            " 3 1 3 2 3 3 1 2 3 3 2 3 1 0 0 2 1 3 3 2 3 3 3 3 0 3 3 3 3 3 3 3 2 3 2 3 3\n",
            " 2 1 3 2 3 2 3 3 1 0 1 3 3 3 3 2 2 3 3 3 3 2 2 1 3 3 0 3 3 3 3 2 3 3 0 3 3\n",
            " 0 3 1 2 2 0 3 1 0 3 2 3 1 3 2 1 0 2 2 1 2 3 3 2 3 3 2 3 3 3 2 1 2 3 2 3 2\n",
            " 2 3 3 1 3 3 2 2 0 3 3 3 2 3 0 2 2 3 2 1 3 3 3 3 2 3 0 3]\n"
          ],
          "name": "stdout"
        }
      ]
    },
    {
      "cell_type": "markdown",
      "metadata": {
        "id": "YvxIPVyMhmKp"
      },
      "source": [
        "## Splitting the dataset into the Training set and Test set"
      ]
    },
    {
      "cell_type": "code",
      "metadata": {
        "id": "AVzJWAXIhxoC"
      },
      "source": [
        "from sklearn.model_selection import train_test_split\n",
        "X_train, X_test, y_train, y_test = train_test_split(X, y, test_size = 0.25, random_state = 0)"
      ],
      "execution_count": null,
      "outputs": []
    },
    {
      "cell_type": "code",
      "metadata": {
        "id": "P3nS3-6r1i2B",
        "colab": {
          "base_uri": "https://localhost:8080/"
        },
        "outputId": "b0f01247-fd69-4bcc-c319-6e6c7a724239"
      },
      "source": [
        "print(X_train)"
      ],
      "execution_count": null,
      "outputs": [
        {
          "output_type": "stream",
          "text": [
            "[[35.099       0.13618    59.21308     5.55174    35.46214824 12.07654258]\n",
            " [11.84388     0.33033    71.30551    13.59813    35.46214824 12.07654258]\n",
            " [12.28782     1.75342    79.69508     1.58847    10.4543308   4.71508207]\n",
            " ...\n",
            " [20.79023     0.50593    44.67264    14.03005    35.46214824 12.07654258]\n",
            " [18.83287     2.71046    69.46467     2.20033    10.4543308   4.71508207]\n",
            " [73.42044     5.1794     19.7647      1.62367     5.90487763  4.52358037]]\n"
          ],
          "name": "stdout"
        }
      ]
    },
    {
      "cell_type": "code",
      "metadata": {
        "id": "8dpDLojm1mVG",
        "colab": {
          "base_uri": "https://localhost:8080/"
        },
        "outputId": "d1031bf6-19e3-43f6-e100-a2ca4a9e6e93"
      },
      "source": [
        "print(y_train)"
      ],
      "execution_count": null,
      "outputs": [
        {
          "output_type": "stream",
          "text": [
            "[3 3 2 3 0 2 0 3 1 0 2 2 1 3 2 3 3 3 3 3 3 1 3 2 2 1 3 2 3 3 2 3 0 2 2 3 3\n",
            " 3 3 2 0 3 3 2 3 3 2 3 3 1 2 3 3 2 3 3 3 3 0 2 2 2 0 3 0 3 0 0 3 1 3 2 2 2\n",
            " 3 3 3 3 3 3 2 1 2 1 3 1 3 0 1 3 3 1 3 3 3 3 3 2 3 3 2 0 2 3 3 3 3 0 3 3 2\n",
            " 3 1 3 2 3 0 3 2 2 3 3 3 3 2 1 3 2 1 3 3 0 3 2 3 1 2 1 0 1 3 3 0 2 3 3 2 3\n",
            " 3 2 3 2 3 3 1 2 3 3 3 2 2 1 1 3 3 2 3 3 3 3 2 3 2 1 3 3 3 0 2 1 3 0 3 2 3\n",
            " 3 1 3 3 2 1 1 3 2 2 2 0 3 3 3 2 3 3 2 2 1 2 2 3 2 3 3 3 3 2 2 1 3 1 3 3 2\n",
            " 1 2 1 2 2 1 0 0 2 1 2 0 0 1 3 2 3 3 3 2 3 3 1 1 3 3 2 1 1 2 3 2 0 2 3 1 0\n",
            " 2 1 0 0 3 3 3 3 3 2 2 3 3 3 3 3 3 1 1 3 2 0 0 0 2 3 3 3 0 0 0 3 3 1 2 3 1\n",
            " 0 3 1 3 1 0 0 1 2 3 1 3 0 3 0 3 3 1 2 1 1 2 3 2 2 3 3 3 2 3 3 1 0 0 3 3 3\n",
            " 0 2 1 3 3 1 3 2 2 2 3 3 3 3 3 1 0 2 0 3 3 3 3 3 3 3 3 3 3 2 3 3 0 3 3 0 3\n",
            " 0 1 2 1 3 3 0 3 3 3 0 2 3 1 3 1 3 0 3 1 0 2 3 3 2 3 3 2 1 3 2 3 2 3 2 3 3\n",
            " 3 2 2 1 0 3 3 0 2 0 3 2 0 3 3 2 3 3 3 3 3 1 2 1 1 3 1 2 3 3 3 3 3 2 3 2 0\n",
            " 3 2 3 0 2 2 1 2 3 3 2 3 3 2 3 2 2 3 0 3 1 3 1 1 3 1 1 3 0 3 2 3 0 2 3 2 3\n",
            " 1 3 1 0 2 2 3 1 3 2 0 3 2 3 3 0 3 3 0 3 2 1 3 2 3 2 3 3 3 3 3 3 3 2 3 3 0\n",
            " 2 0 2 1 2 3 0 2 1 3 3 0 3 2 3 0 3 2 3 3 3 3 3 3 1 0 3 2 3 2 2 1 0 3 3 3 3\n",
            " 2 3 1 3 1 2 3 0 2 3 3 0 1 3 2 2 3 1 3 3 1 3 2 1 0 2 0 3 3 0 3 3 3 3 3 0 2\n",
            " 3 2 3 3 3 2 2 3 3 3 3 3 2 1 3 3 3 1 3 0 3 3 3 2 2 1 2 2 3 3 3 3 3 3 3 0 1\n",
            " 1 2 3 3 1 2 3 2 3 3 3 2 3 1 2 2 3 3 3 0 1 3 3 3 1 2 2 2 3 3 2 3 3 3 3 2 1\n",
            " 3 2 3 3 3 3 3 3 2 3 3 3 1 3 3 1 3 2 2 3 0 3 3 3 2 3 3 1 3 1 2 0 1 1 1 3 3\n",
            " 0 2 1 1 1 2 1 3 2 0 2 3 2 2 3 0 3 3 3 2 3 3 3 2 2 3 3 0 3 1 3 3 3 3 0 1 3\n",
            " 2 2]\n"
          ],
          "name": "stdout"
        }
      ]
    },
    {
      "cell_type": "code",
      "metadata": {
        "id": "qbb7i0DH1qui",
        "colab": {
          "base_uri": "https://localhost:8080/"
        },
        "outputId": "d0aed379-8a2d-47b2-b90b-af4dec95eb1e"
      },
      "source": [
        "print(X_test)"
      ],
      "execution_count": null,
      "outputs": [
        {
          "output_type": "stream",
          "text": [
            "[[7.79753000e+00 3.24340000e-01 6.32256000e+01 2.27862400e+01\n",
            "  5.82066327e+01 1.44106155e+01]\n",
            " [3.50761900e+01 1.10357400e+01 3.49278600e+01 1.89602100e+01\n",
            "  7.77365833e+00 1.54313552e+00]\n",
            " [1.34241600e+01 3.22970000e-01 7.35436600e+01 1.24903000e+01\n",
            "  5.82066327e+01 1.44106155e+01]\n",
            " ...\n",
            " [1.27456647e-01 1.64450867e-01 6.76589595e-01 1.15606900e-03\n",
            "  3.47372817e+00 4.56380750e+00]\n",
            " [7.65530600e+01 1.61469000e+00 1.28941600e+01 2.24677000e+00\n",
            "  5.90487763e+00 4.52358037e+00]\n",
            " [6.25398000e+00 2.95260000e-01 4.97076300e+01 4.37431200e+01\n",
            "  3.54621482e+01 1.20765426e+01]]\n"
          ],
          "name": "stdout"
        }
      ]
    },
    {
      "cell_type": "code",
      "metadata": {
        "id": "kj1hnFAR1s5w",
        "colab": {
          "base_uri": "https://localhost:8080/"
        },
        "outputId": "e8715d0c-081e-45e5-d7b0-f3017079152c"
      },
      "source": [
        "print(y_test)"
      ],
      "execution_count": null,
      "outputs": [
        {
          "output_type": "stream",
          "text": [
            "[3 1 3 3 3 3 3 3 3 3 3 3 1 3 2 3 3 1 1 0 1 3 3 2 2 2 2 3 3 2 1 3 3 3 3 3 3\n",
            " 3 2 2 2 2 3 2 3 2 3 2 3 3 3 1 3 3 3 3 2 3 3 0 2 2 2 2 2 2 2 3 2 3 3 2 3 3\n",
            " 2 1 1 1 0 3 0 2 3 2 3 2 0 3 0 3 3 2 0 0 1 1 3 3 3 3 2 3 1 3 1 2 3 2 3 2 2\n",
            " 1 1 3 3 2 2 2 2 1 2 3 3 1 3 3 3 0 3 3 3 3 3 3 3 3 3 3 3 1 3 0 2 3 2 2 3 3\n",
            " 3 1 2 1 3 0 2 3 2 3 3 3 3 3 3 3 2 1 2 3 1 0 3 0 3 1 0 3 2 3 2 3 3 1 3 3 3\n",
            " 3 2 2 3 3 3 1 0 2 3 0 3 0 2 3 3 3 3 1 2 1 2 3 3 2 2 1 3 3 3 3 2 3 2 3 2 3\n",
            " 2 3 3 3 1 3 1 2 3 0 3 3 2 1 3 0 1 3 2 1 3 2 3 1 2 3]\n"
          ],
          "name": "stdout"
        }
      ]
    },
    {
      "cell_type": "markdown",
      "metadata": {
        "id": "bb6jCOCQiAmP"
      },
      "source": [
        "## Training the Logistic Regression model on the Training set"
      ]
    },
    {
      "cell_type": "code",
      "metadata": {
        "id": "e0pFVAmciHQs",
        "colab": {
          "base_uri": "https://localhost:8080/"
        },
        "outputId": "cfea5929-9a82-4de0-c1c8-23cb9a3f4e95"
      },
      "source": [
        "from sklearn.linear_model import LogisticRegression\n",
        "classifier = LogisticRegression(random_state = 0)\n",
        "classifier.fit(X_train, y_train)"
      ],
      "execution_count": null,
      "outputs": [
        {
          "output_type": "stream",
          "text": [
            "/usr/local/lib/python3.6/dist-packages/sklearn/linear_model/_logistic.py:940: ConvergenceWarning: lbfgs failed to converge (status=1):\n",
            "STOP: TOTAL NO. of ITERATIONS REACHED LIMIT.\n",
            "\n",
            "Increase the number of iterations (max_iter) or scale the data as shown in:\n",
            "    https://scikit-learn.org/stable/modules/preprocessing.html\n",
            "Please also refer to the documentation for alternative solver options:\n",
            "    https://scikit-learn.org/stable/modules/linear_model.html#logistic-regression\n",
            "  extra_warning_msg=_LOGISTIC_SOLVER_CONVERGENCE_MSG)\n"
          ],
          "name": "stderr"
        },
        {
          "output_type": "execute_result",
          "data": {
            "text/plain": [
              "LogisticRegression(C=1.0, class_weight=None, dual=False, fit_intercept=True,\n",
              "                   intercept_scaling=1, l1_ratio=None, max_iter=100,\n",
              "                   multi_class='auto', n_jobs=None, penalty='l2',\n",
              "                   random_state=0, solver='lbfgs', tol=0.0001, verbose=0,\n",
              "                   warm_start=False)"
            ]
          },
          "metadata": {
            "tags": []
          },
          "execution_count": 14
        }
      ]
    },
    {
      "cell_type": "markdown",
      "metadata": {
        "id": "vKYVQH-l5NpE"
      },
      "source": [
        "## Predicting the Test set results"
      ]
    },
    {
      "cell_type": "code",
      "metadata": {
        "id": "p6VMTb2O4hwM",
        "colab": {
          "base_uri": "https://localhost:8080/"
        },
        "outputId": "fe8f5e81-ba40-4030-cf6a-73a7cd14e723"
      },
      "source": [
        "y_pred = classifier.predict(X_test)\n",
        "print(np.concatenate((y_pred.reshape(len(y_pred),1), y_test.reshape(len(y_test),1)),1))"
      ],
      "execution_count": null,
      "outputs": [
        {
          "output_type": "stream",
          "text": [
            "[[3 3]\n",
            " [1 1]\n",
            " [3 3]\n",
            " [3 3]\n",
            " [3 3]\n",
            " [3 3]\n",
            " [3 3]\n",
            " [3 3]\n",
            " [3 3]\n",
            " [3 3]\n",
            " [3 3]\n",
            " [3 3]\n",
            " [1 1]\n",
            " [3 3]\n",
            " [2 2]\n",
            " [3 3]\n",
            " [3 3]\n",
            " [1 1]\n",
            " [1 1]\n",
            " [0 0]\n",
            " [1 1]\n",
            " [3 3]\n",
            " [3 3]\n",
            " [2 2]\n",
            " [2 2]\n",
            " [2 2]\n",
            " [2 2]\n",
            " [3 3]\n",
            " [3 3]\n",
            " [2 2]\n",
            " [1 1]\n",
            " [3 3]\n",
            " [3 3]\n",
            " [3 3]\n",
            " [3 3]\n",
            " [3 3]\n",
            " [3 3]\n",
            " [3 3]\n",
            " [2 2]\n",
            " [2 2]\n",
            " [2 2]\n",
            " [2 2]\n",
            " [3 3]\n",
            " [2 2]\n",
            " [3 3]\n",
            " [2 2]\n",
            " [3 3]\n",
            " [2 2]\n",
            " [3 3]\n",
            " [3 3]\n",
            " [3 3]\n",
            " [2 1]\n",
            " [3 3]\n",
            " [3 3]\n",
            " [3 3]\n",
            " [3 3]\n",
            " [2 2]\n",
            " [3 3]\n",
            " [3 3]\n",
            " [0 0]\n",
            " [2 2]\n",
            " [2 2]\n",
            " [2 2]\n",
            " [2 2]\n",
            " [2 2]\n",
            " [2 2]\n",
            " [2 2]\n",
            " [3 3]\n",
            " [2 2]\n",
            " [3 3]\n",
            " [3 3]\n",
            " [2 2]\n",
            " [3 3]\n",
            " [3 3]\n",
            " [2 2]\n",
            " [2 1]\n",
            " [1 1]\n",
            " [1 1]\n",
            " [0 0]\n",
            " [3 3]\n",
            " [0 0]\n",
            " [2 2]\n",
            " [3 3]\n",
            " [2 2]\n",
            " [3 3]\n",
            " [2 2]\n",
            " [0 0]\n",
            " [3 3]\n",
            " [0 0]\n",
            " [3 3]\n",
            " [3 3]\n",
            " [2 2]\n",
            " [0 0]\n",
            " [0 0]\n",
            " [1 1]\n",
            " [1 1]\n",
            " [3 3]\n",
            " [3 3]\n",
            " [3 3]\n",
            " [3 3]\n",
            " [2 2]\n",
            " [3 3]\n",
            " [1 1]\n",
            " [3 3]\n",
            " [1 1]\n",
            " [2 2]\n",
            " [3 3]\n",
            " [2 2]\n",
            " [3 3]\n",
            " [2 2]\n",
            " [2 2]\n",
            " [1 1]\n",
            " [1 1]\n",
            " [3 3]\n",
            " [3 3]\n",
            " [2 2]\n",
            " [2 2]\n",
            " [2 2]\n",
            " [2 2]\n",
            " [1 1]\n",
            " [2 2]\n",
            " [3 3]\n",
            " [3 3]\n",
            " [1 1]\n",
            " [3 3]\n",
            " [3 3]\n",
            " [3 3]\n",
            " [0 0]\n",
            " [3 3]\n",
            " [3 3]\n",
            " [3 3]\n",
            " [3 3]\n",
            " [3 3]\n",
            " [3 3]\n",
            " [3 3]\n",
            " [3 3]\n",
            " [3 3]\n",
            " [3 3]\n",
            " [3 3]\n",
            " [1 1]\n",
            " [3 3]\n",
            " [0 0]\n",
            " [2 2]\n",
            " [3 3]\n",
            " [2 2]\n",
            " [2 2]\n",
            " [3 3]\n",
            " [3 3]\n",
            " [3 3]\n",
            " [1 1]\n",
            " [2 2]\n",
            " [2 1]\n",
            " [3 3]\n",
            " [0 0]\n",
            " [2 2]\n",
            " [3 3]\n",
            " [2 2]\n",
            " [3 3]\n",
            " [3 3]\n",
            " [3 3]\n",
            " [3 3]\n",
            " [3 3]\n",
            " [3 3]\n",
            " [3 3]\n",
            " [2 2]\n",
            " [1 1]\n",
            " [2 2]\n",
            " [3 3]\n",
            " [1 1]\n",
            " [0 0]\n",
            " [3 3]\n",
            " [0 0]\n",
            " [3 3]\n",
            " [1 1]\n",
            " [0 0]\n",
            " [3 3]\n",
            " [2 2]\n",
            " [3 3]\n",
            " [2 2]\n",
            " [3 3]\n",
            " [3 3]\n",
            " [1 1]\n",
            " [3 3]\n",
            " [3 3]\n",
            " [3 3]\n",
            " [3 3]\n",
            " [2 2]\n",
            " [2 2]\n",
            " [3 3]\n",
            " [3 3]\n",
            " [3 3]\n",
            " [1 1]\n",
            " [0 0]\n",
            " [2 2]\n",
            " [3 3]\n",
            " [3 0]\n",
            " [3 3]\n",
            " [0 0]\n",
            " [2 2]\n",
            " [3 3]\n",
            " [3 3]\n",
            " [3 3]\n",
            " [3 3]\n",
            " [1 1]\n",
            " [2 2]\n",
            " [1 1]\n",
            " [2 2]\n",
            " [3 3]\n",
            " [3 3]\n",
            " [2 2]\n",
            " [2 2]\n",
            " [1 1]\n",
            " [3 3]\n",
            " [3 3]\n",
            " [3 3]\n",
            " [3 3]\n",
            " [2 2]\n",
            " [3 3]\n",
            " [2 2]\n",
            " [3 3]\n",
            " [2 2]\n",
            " [3 3]\n",
            " [2 2]\n",
            " [3 3]\n",
            " [3 3]\n",
            " [3 3]\n",
            " [1 1]\n",
            " [3 3]\n",
            " [1 1]\n",
            " [2 2]\n",
            " [3 3]\n",
            " [0 0]\n",
            " [3 3]\n",
            " [3 3]\n",
            " [2 2]\n",
            " [2 1]\n",
            " [3 3]\n",
            " [0 0]\n",
            " [1 1]\n",
            " [3 3]\n",
            " [2 2]\n",
            " [1 1]\n",
            " [3 3]\n",
            " [2 2]\n",
            " [3 3]\n",
            " [2 1]\n",
            " [2 2]\n",
            " [3 3]]\n"
          ],
          "name": "stdout"
        }
      ]
    },
    {
      "cell_type": "markdown",
      "metadata": {
        "id": "h4Hwj34ziWQW"
      },
      "source": [
        "## Making the Confusion Matrix"
      ]
    },
    {
      "cell_type": "code",
      "metadata": {
        "id": "D6bpZwUiiXic",
        "colab": {
          "base_uri": "https://localhost:8080/"
        },
        "outputId": "afb8fb76-7cc4-44f7-9a58-185da81fb820"
      },
      "source": [
        "from sklearn.metrics import confusion_matrix, accuracy_score\n",
        "cm = confusion_matrix(y_test, y_pred)\n",
        "print(cm)\n",
        "accuracy_score(y_test, y_pred)"
      ],
      "execution_count": null,
      "outputs": [
        {
          "output_type": "stream",
          "text": [
            "[[ 18   0   0   1]\n",
            " [  0  30   5   0]\n",
            " [  0   0  65   0]\n",
            " [  0   0   0 129]]\n"
          ],
          "name": "stdout"
        },
        {
          "output_type": "execute_result",
          "data": {
            "text/plain": [
              "0.9758064516129032"
            ]
          },
          "metadata": {
            "tags": []
          },
          "execution_count": 16
        }
      ]
    }
  ]
}