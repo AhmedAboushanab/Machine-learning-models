{
  "nbformat": 4,
  "nbformat_minor": 0,
  "metadata": {
    "colab": {
      "name": "Random_forest_classification_model_with_Grid Search.ipynb",
      "provenance": [],
      "collapsed_sections": [],
      "machine_shape": "hm",
      "include_colab_link": true
    },
    "kernelspec": {
      "name": "python3",
      "display_name": "Python 3"
    }
  },
  "cells": [
    {
      "cell_type": "markdown",
      "metadata": {
        "id": "view-in-github",
        "colab_type": "text"
      },
      "source": [
        "<a href=\"https://colab.research.google.com/github/AhmedAboushanab/Machine-learning-models/blob/main/Random_forest_classification_model_with_Grid_Search.ipynb\" target=\"_parent\"><img src=\"https://colab.research.google.com/assets/colab-badge.svg\" alt=\"Open In Colab\"/></a>"
      ]
    },
    {
      "cell_type": "markdown",
      "metadata": {
        "id": "0MRC0e0KhQ0S"
      },
      "source": [
        "# Random Forest Classification"
      ]
    },
    {
      "cell_type": "markdown",
      "metadata": {
        "id": "LWd1UlMnhT2s"
      },
      "source": [
        "## Importing the libraries"
      ]
    },
    {
      "cell_type": "code",
      "metadata": {
        "id": "EzNEUFeiXAoK",
        "colab": {
          "base_uri": "https://localhost:8080/"
        },
        "outputId": "98980159-41b0-4958-aaca-0295fae66a48"
      },
      "source": [
        "pip install shap"
      ],
      "execution_count": null,
      "outputs": [
        {
          "output_type": "stream",
          "name": "stdout",
          "text": [
            "Collecting shap\n",
            "  Downloading shap-0.40.0-cp37-cp37m-manylinux2010_x86_64.whl (564 kB)\n",
            "\u001b[?25l\r\u001b[K     |▋                               | 10 kB 25.0 MB/s eta 0:00:01\r\u001b[K     |█▏                              | 20 kB 34.0 MB/s eta 0:00:01\r\u001b[K     |█▊                              | 30 kB 19.2 MB/s eta 0:00:01\r\u001b[K     |██▎                             | 40 kB 18.6 MB/s eta 0:00:01\r\u001b[K     |███                             | 51 kB 19.1 MB/s eta 0:00:01\r\u001b[K     |███▌                            | 61 kB 15.4 MB/s eta 0:00:01\r\u001b[K     |████                            | 71 kB 13.5 MB/s eta 0:00:01\r\u001b[K     |████▋                           | 81 kB 14.7 MB/s eta 0:00:01\r\u001b[K     |█████▏                          | 92 kB 16.1 MB/s eta 0:00:01\r\u001b[K     |█████▉                          | 102 kB 13.8 MB/s eta 0:00:01\r\u001b[K     |██████▍                         | 112 kB 13.8 MB/s eta 0:00:01\r\u001b[K     |███████                         | 122 kB 13.8 MB/s eta 0:00:01\r\u001b[K     |███████▌                        | 133 kB 13.8 MB/s eta 0:00:01\r\u001b[K     |████████▏                       | 143 kB 13.8 MB/s eta 0:00:01\r\u001b[K     |████████▊                       | 153 kB 13.8 MB/s eta 0:00:01\r\u001b[K     |█████████▎                      | 163 kB 13.8 MB/s eta 0:00:01\r\u001b[K     |█████████▉                      | 174 kB 13.8 MB/s eta 0:00:01\r\u001b[K     |██████████▍                     | 184 kB 13.8 MB/s eta 0:00:01\r\u001b[K     |███████████                     | 194 kB 13.8 MB/s eta 0:00:01\r\u001b[K     |███████████▋                    | 204 kB 13.8 MB/s eta 0:00:01\r\u001b[K     |████████████▏                   | 215 kB 13.8 MB/s eta 0:00:01\r\u001b[K     |████████████▊                   | 225 kB 13.8 MB/s eta 0:00:01\r\u001b[K     |█████████████▍                  | 235 kB 13.8 MB/s eta 0:00:01\r\u001b[K     |██████████████                  | 245 kB 13.8 MB/s eta 0:00:01\r\u001b[K     |██████████████▌                 | 256 kB 13.8 MB/s eta 0:00:01\r\u001b[K     |███████████████                 | 266 kB 13.8 MB/s eta 0:00:01\r\u001b[K     |███████████████▋                | 276 kB 13.8 MB/s eta 0:00:01\r\u001b[K     |████████████████▎               | 286 kB 13.8 MB/s eta 0:00:01\r\u001b[K     |████████████████▉               | 296 kB 13.8 MB/s eta 0:00:01\r\u001b[K     |█████████████████▍              | 307 kB 13.8 MB/s eta 0:00:01\r\u001b[K     |██████████████████              | 317 kB 13.8 MB/s eta 0:00:01\r\u001b[K     |██████████████████▋             | 327 kB 13.8 MB/s eta 0:00:01\r\u001b[K     |███████████████████▏            | 337 kB 13.8 MB/s eta 0:00:01\r\u001b[K     |███████████████████▊            | 348 kB 13.8 MB/s eta 0:00:01\r\u001b[K     |████████████████████▎           | 358 kB 13.8 MB/s eta 0:00:01\r\u001b[K     |████████████████████▉           | 368 kB 13.8 MB/s eta 0:00:01\r\u001b[K     |█████████████████████▌          | 378 kB 13.8 MB/s eta 0:00:01\r\u001b[K     |██████████████████████          | 389 kB 13.8 MB/s eta 0:00:01\r\u001b[K     |██████████████████████▋         | 399 kB 13.8 MB/s eta 0:00:01\r\u001b[K     |███████████████████████▏        | 409 kB 13.8 MB/s eta 0:00:01\r\u001b[K     |███████████████████████▉        | 419 kB 13.8 MB/s eta 0:00:01\r\u001b[K     |████████████████████████▍       | 430 kB 13.8 MB/s eta 0:00:01\r\u001b[K     |█████████████████████████       | 440 kB 13.8 MB/s eta 0:00:01\r\u001b[K     |█████████████████████████▌      | 450 kB 13.8 MB/s eta 0:00:01\r\u001b[K     |██████████████████████████      | 460 kB 13.8 MB/s eta 0:00:01\r\u001b[K     |██████████████████████████▊     | 471 kB 13.8 MB/s eta 0:00:01\r\u001b[K     |███████████████████████████▎    | 481 kB 13.8 MB/s eta 0:00:01\r\u001b[K     |███████████████████████████▉    | 491 kB 13.8 MB/s eta 0:00:01\r\u001b[K     |████████████████████████████▍   | 501 kB 13.8 MB/s eta 0:00:01\r\u001b[K     |█████████████████████████████   | 512 kB 13.8 MB/s eta 0:00:01\r\u001b[K     |█████████████████████████████▋  | 522 kB 13.8 MB/s eta 0:00:01\r\u001b[K     |██████████████████████████████▏ | 532 kB 13.8 MB/s eta 0:00:01\r\u001b[K     |██████████████████████████████▊ | 542 kB 13.8 MB/s eta 0:00:01\r\u001b[K     |███████████████████████████████▎| 552 kB 13.8 MB/s eta 0:00:01\r\u001b[K     |████████████████████████████████| 563 kB 13.8 MB/s eta 0:00:01\r\u001b[K     |████████████████████████████████| 564 kB 13.8 MB/s \n",
            "\u001b[?25hCollecting slicer==0.0.7\n",
            "  Downloading slicer-0.0.7-py3-none-any.whl (14 kB)\n",
            "Requirement already satisfied: pandas in /usr/local/lib/python3.7/dist-packages (from shap) (1.1.5)\n",
            "Requirement already satisfied: scipy in /usr/local/lib/python3.7/dist-packages (from shap) (1.4.1)\n",
            "Requirement already satisfied: tqdm>4.25.0 in /usr/local/lib/python3.7/dist-packages (from shap) (4.62.3)\n",
            "Requirement already satisfied: numba in /usr/local/lib/python3.7/dist-packages (from shap) (0.51.2)\n",
            "Requirement already satisfied: packaging>20.9 in /usr/local/lib/python3.7/dist-packages (from shap) (21.3)\n",
            "Requirement already satisfied: numpy in /usr/local/lib/python3.7/dist-packages (from shap) (1.19.5)\n",
            "Requirement already satisfied: cloudpickle in /usr/local/lib/python3.7/dist-packages (from shap) (1.3.0)\n",
            "Requirement already satisfied: scikit-learn in /usr/local/lib/python3.7/dist-packages (from shap) (1.0.1)\n",
            "Requirement already satisfied: pyparsing!=3.0.5,>=2.0.2 in /usr/local/lib/python3.7/dist-packages (from packaging>20.9->shap) (3.0.6)\n",
            "Requirement already satisfied: setuptools in /usr/local/lib/python3.7/dist-packages (from numba->shap) (57.4.0)\n",
            "Requirement already satisfied: llvmlite<0.35,>=0.34.0.dev0 in /usr/local/lib/python3.7/dist-packages (from numba->shap) (0.34.0)\n",
            "Requirement already satisfied: python-dateutil>=2.7.3 in /usr/local/lib/python3.7/dist-packages (from pandas->shap) (2.8.2)\n",
            "Requirement already satisfied: pytz>=2017.2 in /usr/local/lib/python3.7/dist-packages (from pandas->shap) (2018.9)\n",
            "Requirement already satisfied: six>=1.5 in /usr/local/lib/python3.7/dist-packages (from python-dateutil>=2.7.3->pandas->shap) (1.15.0)\n",
            "Requirement already satisfied: threadpoolctl>=2.0.0 in /usr/local/lib/python3.7/dist-packages (from scikit-learn->shap) (3.0.0)\n",
            "Requirement already satisfied: joblib>=0.11 in /usr/local/lib/python3.7/dist-packages (from scikit-learn->shap) (1.1.0)\n",
            "Installing collected packages: slicer, shap\n",
            "Successfully installed shap-0.40.0 slicer-0.0.7\n"
          ]
        }
      ]
    },
    {
      "cell_type": "code",
      "metadata": {
        "id": "YvGPUQaHhXfL"
      },
      "source": [
        "import numpy as np\n",
        "import matplotlib.pyplot as plt\n",
        "import pandas as pd\n",
        "from sklearn.inspection import permutation_importance\n",
        "import shap\n",
        "from plotnine.data import mpg\n",
        "from plotnine import ggplot, aes, facet_grid, labs, geom_point, theme_dark"
      ],
      "execution_count": null,
      "outputs": []
    },
    {
      "cell_type": "markdown",
      "metadata": {
        "id": "K1VMqkGvhc3-"
      },
      "source": [
        "## Importing the dataset"
      ]
    },
    {
      "cell_type": "code",
      "metadata": {
        "id": "M52QDmyzhh9s"
      },
      "source": [
        "dataset = pd.read_csv('Total_L2_Additional taxa - Copy2.csv')\n",
        "X = dataset.iloc[:, :-1].values\n",
        "y = dataset.iloc[:, -1].values"
      ],
      "execution_count": null,
      "outputs": []
    },
    {
      "cell_type": "markdown",
      "metadata": {
        "id": "YvxIPVyMhmKp"
      },
      "source": [
        "## Splitting the dataset into the Training set and Test set"
      ]
    },
    {
      "cell_type": "code",
      "metadata": {
        "id": "AVzJWAXIhxoC"
      },
      "source": [
        "from sklearn.model_selection import train_test_split\n",
        "X_train, X_test, y_train, y_test = train_test_split(X, y, test_size = 0.25, random_state = 0)"
      ],
      "execution_count": null,
      "outputs": []
    },
    {
      "cell_type": "code",
      "metadata": {
        "id": "P3nS3-6r1i2B",
        "colab": {
          "base_uri": "https://localhost:8080/"
        },
        "outputId": "5aa87760-b1b2-4e91-8792-72247d97267a"
      },
      "source": [
        "print(X_train)"
      ],
      "execution_count": null,
      "outputs": [
        {
          "output_type": "stream",
          "name": "stdout",
          "text": [
            "[[7.468510e+00 2.411700e-01 7.925547e+01 1.257949e+01 4.553700e-01\n",
            "  0.000000e+00]\n",
            " [2.099656e+01 4.211000e-02 4.841867e+01 1.807778e+01 2.227190e+00\n",
            "  0.000000e+00]\n",
            " [1.891629e+01 8.493800e-01 4.263863e+01 2.553171e+01 9.880000e-02\n",
            "  0.000000e+00]\n",
            " ...\n",
            " [3.235608e+01 2.117880e+00 5.620852e+01 7.463300e+00 0.000000e+00\n",
            "  0.000000e+00]\n",
            " [9.025368e+01 3.532000e-02 9.554750e+00 1.562500e-01 0.000000e+00\n",
            "  0.000000e+00]\n",
            " [1.901704e+01 4.430000e-02 5.706990e+01 2.025380e+01 1.519900e-01\n",
            "  0.000000e+00]]\n"
          ]
        }
      ]
    },
    {
      "cell_type": "code",
      "metadata": {
        "id": "8dpDLojm1mVG",
        "colab": {
          "base_uri": "https://localhost:8080/"
        },
        "outputId": "6d98d2ce-af08-4d72-9579-0b310fb3df08"
      },
      "source": [
        "print(y_train)"
      ],
      "execution_count": null,
      "outputs": [
        {
          "output_type": "stream",
          "name": "stdout",
          "text": [
            "['Netherlands' 'Netherlands' 'Netherlands' ... 'Finland' 'USA'\n",
            " 'Netherlands']\n"
          ]
        }
      ]
    },
    {
      "cell_type": "code",
      "metadata": {
        "id": "qbb7i0DH1qui",
        "colab": {
          "base_uri": "https://localhost:8080/"
        },
        "outputId": "18d3091b-2ebe-48a9-f97f-7a05e26850dc"
      },
      "source": [
        "print(X_test)"
      ],
      "execution_count": null,
      "outputs": [
        {
          "output_type": "stream",
          "name": "stdout",
          "text": [
            "[[7.386330e+00 4.471600e-01 8.740749e+01 3.916570e+00 2.679000e-02\n",
            "  0.000000e+00]\n",
            " [2.433670e+01 2.014510e+00 6.980561e+01 3.823690e+00 0.000000e+00\n",
            "  0.000000e+00]\n",
            " [2.640101e+01 3.660200e-01 5.653421e+01 1.353437e+01 3.081580e+00\n",
            "  0.000000e+00]\n",
            " ...\n",
            " [4.823584e+01 3.106090e+00 4.792939e+01 3.134700e-01 4.152100e-01\n",
            "  0.000000e+00]\n",
            " [8.217653e+01 5.314380e+00 1.145343e+01 1.026810e+00 0.000000e+00\n",
            "  0.000000e+00]\n",
            " [2.415488e+01 2.500600e-01 7.418839e+01 1.406660e+00 0.000000e+00\n",
            "  0.000000e+00]]\n"
          ]
        }
      ]
    },
    {
      "cell_type": "code",
      "metadata": {
        "id": "kj1hnFAR1s5w",
        "colab": {
          "base_uri": "https://localhost:8080/"
        },
        "outputId": "6cbda19e-1348-4eb4-e37c-a76282f9561d"
      },
      "source": [
        "print(y_test)"
      ],
      "execution_count": null,
      "outputs": [
        {
          "output_type": "stream",
          "name": "stdout",
          "text": [
            "['Denmark' 'Denmark' 'Netherlands' 'China' 'Netherlands' 'China'\n",
            " 'Netherlands' 'Denmark' 'Netherlands' 'Netherlands' 'Netherlands'\n",
            " 'Denmark' 'Madagascar' 'China' 'Madagascar' 'Netherlands' 'Netherlands'\n",
            " 'Madagascar' 'Finland' 'Denmark' 'China' 'USA' 'China' 'Netherlands'\n",
            " 'China' 'Madagascar' 'Netherlands' 'Netherlands' 'China' 'Denmark'\n",
            " 'Canada' 'USA' 'Denmark' 'China' 'Sweden' 'Netherlands' 'Denmark'\n",
            " 'Netherlands' 'Netherlands' 'Sweden' 'USA' 'China' 'USA' 'Netherlands'\n",
            " 'Netherlands' 'China' 'Sweden' 'China' 'China' 'China' 'Netherlands'\n",
            " 'Denmark' 'Netherlands' 'Denmark' 'China' 'Netherlands' 'Netherlands'\n",
            " 'Denmark' 'USA' 'Madagascar' 'Sweden' 'China' 'Netherlands' 'USA'\n",
            " 'Netherlands' 'China' 'Russia' 'Denmark' 'China' 'Madagascar' 'Denmark'\n",
            " 'Netherlands' 'Netherlands' 'Madagascar' 'Italy' 'Denmark' 'Netherlands'\n",
            " 'Netherlands' 'Denmark' 'USA' 'Sweden' 'China' 'USA' 'Italy' 'China'\n",
            " 'Madagascar' 'Netherlands' 'China' 'Denmark' 'Netherlands' 'Sweden'\n",
            " 'Netherlands' 'Madagascar' 'China' 'Netherlands' 'Netherlands'\n",
            " 'Netherlands' 'China' 'Denmark' 'Sweden' 'China' 'USA' 'Netherlands'\n",
            " 'Netherlands' 'Netherlands' 'USA' 'Netherlands' 'USA' 'USA' 'Madagascar'\n",
            " 'China' 'China' 'Netherlands' 'Netherlands' 'Madagascar' 'Netherlands'\n",
            " 'Denmark' 'China' 'Netherlands' 'Russia' 'Denmark' 'Netherlands' 'USA'\n",
            " 'China' 'Netherlands' 'Madagascar' 'China' 'Netherlands' 'USA'\n",
            " 'Netherlands' 'Madagascar' 'Denmark' 'USA' 'Netherlands' 'Netherlands'\n",
            " 'Netherlands' 'Netherlands' 'Sweden' 'Denmark' 'Madagascar' 'USA' 'USA'\n",
            " 'USA' 'USA' 'Denmark' 'Madagascar' 'Netherlands' 'China' 'Netherlands'\n",
            " 'Italy' 'Netherlands' 'Netherlands' 'Madagascar' 'China' 'Netherlands'\n",
            " 'Sweden' 'Netherlands' 'China' 'China' 'Egypt' 'Netherlands' 'China'\n",
            " 'China' 'Italy' 'China' 'Netherlands' 'China' 'Russia' 'Denmark'\n",
            " 'Netherlands' 'China' 'China' 'USA' 'USA' 'China' 'Netherlands' 'China'\n",
            " 'Netherlands' 'Finland' 'China' 'Denmark' 'China' 'USA' 'Netherlands'\n",
            " 'Denmark' 'China' 'Madagascar' 'USA' 'Finland' 'Netherlands'\n",
            " 'Netherlands' 'China' 'Netherlands' 'Netherlands' 'Madagascar'\n",
            " 'Netherlands' 'China' 'USA' 'USA' 'Sweden' 'Netherlands' 'Netherlands'\n",
            " 'Netherlands' 'Netherlands' 'China' 'USA' 'Netherlands' 'Finland'\n",
            " 'Sweden' 'China' 'Sweden' 'Netherlands' 'Netherlands' 'Denmark' 'China'\n",
            " 'Netherlands' 'China' 'Italy' 'USA' 'USA' 'Denmark' 'USA' 'Netherlands'\n",
            " 'Netherlands' 'USA' 'Denmark' 'USA' 'China' 'Finland' 'China'\n",
            " 'Netherlands' 'China' 'Netherlands' 'Denmark' 'Denmark' 'USA'\n",
            " 'Netherlands' 'Russia' 'USA' 'Netherlands' 'Denmark' 'Sweden' 'China'\n",
            " 'Netherlands' 'Madagascar' 'USA' 'China' 'Netherlands' 'USA'\n",
            " 'Netherlands' 'Denmark' 'Madagascar' 'Netherlands' 'China' 'China'\n",
            " 'Netherlands' 'Denmark' 'Madagascar' 'China' 'USA' 'Netherlands' 'USA'\n",
            " 'Finland' 'USA' 'Denmark' 'Netherlands' 'China' 'Sweden' 'USA'\n",
            " 'Netherlands' 'China' 'Canada' 'Russia' 'Netherlands' 'China' 'Finland'\n",
            " 'Denmark' 'USA' 'Netherlands' 'USA' 'USA' 'Netherlands' 'Netherlands'\n",
            " 'Denmark' 'Netherlands' 'Netherlands' 'Netherlands' 'Netherlands'\n",
            " 'Netherlands' 'Madagascar' 'USA' 'China' 'Finland' 'Finland' 'Madagascar'\n",
            " 'USA' 'Sweden' 'China' 'Canada' 'Netherlands' 'Sweden' 'Canada'\n",
            " 'Netherlands' 'Madagascar' 'Denmark' 'Netherlands' 'Netherlands'\n",
            " 'Netherlands' 'Denmark' 'Denmark' 'China' 'Canada' 'Netherlands'\n",
            " 'Madagascar' 'USA' 'Madagascar' 'China' 'Finland' 'Madagascar' 'China'\n",
            " 'Netherlands' 'Netherlands' 'Netherlands' 'USA' 'Egypt' 'Canada' 'China'\n",
            " 'USA' 'Netherlands' 'Madagascar' 'Netherlands' 'Denmark' 'China'\n",
            " 'Madagascar' 'Denmark' 'China' 'Madagascar' 'Denmark' 'Denmark' 'USA'\n",
            " 'Netherlands' 'USA' 'Madagascar' 'USA' 'Netherlands' 'Netherlands'\n",
            " 'Netherlands' 'China' 'Netherlands' 'Madagascar' 'China' 'Denmark'\n",
            " 'China' 'Netherlands' 'China' 'Sweden' 'Canada' 'Canada' 'China' 'China'\n",
            " 'China' 'China' 'Netherlands']\n"
          ]
        }
      ]
    },
    {
      "cell_type": "markdown",
      "metadata": {
        "id": "bb6jCOCQiAmP"
      },
      "source": [
        "## Training the Random Forest Classification model on the Training set"
      ]
    },
    {
      "cell_type": "code",
      "metadata": {
        "id": "e0pFVAmciHQs",
        "colab": {
          "base_uri": "https://localhost:8080/"
        },
        "outputId": "251f3642-500e-4561-d54a-f7b8b601fbe7"
      },
      "source": [
        "from sklearn.ensemble import RandomForestClassifier\n",
        "classifier = RandomForestClassifier(n_estimators = 1000, criterion = 'entropy', random_state = 0)\n",
        "classifier.fit(X_train, y_train)"
      ],
      "execution_count": null,
      "outputs": [
        {
          "output_type": "execute_result",
          "data": {
            "text/plain": [
              "RandomForestClassifier(criterion='entropy', n_estimators=1000, random_state=0)"
            ]
          },
          "metadata": {},
          "execution_count": 9
        }
      ]
    },
    {
      "cell_type": "markdown",
      "metadata": {
        "id": "vKYVQH-l5NpE"
      },
      "source": [
        "## Predicting the Test set results"
      ]
    },
    {
      "cell_type": "code",
      "metadata": {
        "id": "p6VMTb2O4hwM",
        "colab": {
          "base_uri": "https://localhost:8080/"
        },
        "outputId": "d9d54d7a-b108-4fda-f983-2811045668de"
      },
      "source": [
        "y_pred = classifier.predict(X_test)\n",
        "print(np.concatenate((y_pred.reshape(len(y_pred),1), y_test.reshape(len(y_test),1)),1))"
      ],
      "execution_count": null,
      "outputs": [
        {
          "output_type": "stream",
          "name": "stdout",
          "text": [
            "[['Denmark' 'Denmark']\n",
            " ['China' 'Denmark']\n",
            " ['Netherlands' 'Netherlands']\n",
            " ['Denmark' 'China']\n",
            " ['Denmark' 'Netherlands']\n",
            " ['Sweden' 'China']\n",
            " ['Netherlands' 'Netherlands']\n",
            " ['Denmark' 'Denmark']\n",
            " ['Netherlands' 'Netherlands']\n",
            " ['Netherlands' 'Netherlands']\n",
            " ['Denmark' 'Netherlands']\n",
            " ['Denmark' 'Denmark']\n",
            " ['Madagascar' 'Madagascar']\n",
            " ['Denmark' 'China']\n",
            " ['Madagascar' 'Madagascar']\n",
            " ['Netherlands' 'Netherlands']\n",
            " ['Netherlands' 'Netherlands']\n",
            " ['Madagascar' 'Madagascar']\n",
            " ['Netherlands' 'Finland']\n",
            " ['Denmark' 'Denmark']\n",
            " ['Madagascar' 'China']\n",
            " ['USA' 'USA']\n",
            " ['Denmark' 'China']\n",
            " ['Netherlands' 'Netherlands']\n",
            " ['China' 'China']\n",
            " ['Madagascar' 'Madagascar']\n",
            " ['Netherlands' 'Netherlands']\n",
            " ['Netherlands' 'Netherlands']\n",
            " ['Netherlands' 'China']\n",
            " ['Denmark' 'Denmark']\n",
            " ['China' 'Canada']\n",
            " ['China' 'USA']\n",
            " ['Denmark' 'Denmark']\n",
            " ['Madagascar' 'China']\n",
            " ['Sweden' 'Sweden']\n",
            " ['Netherlands' 'Netherlands']\n",
            " ['Denmark' 'Denmark']\n",
            " ['Netherlands' 'Netherlands']\n",
            " ['Denmark' 'Netherlands']\n",
            " ['Denmark' 'Sweden']\n",
            " ['USA' 'USA']\n",
            " ['China' 'China']\n",
            " ['China' 'USA']\n",
            " ['Netherlands' 'Netherlands']\n",
            " ['Netherlands' 'Netherlands']\n",
            " ['China' 'China']\n",
            " ['China' 'Sweden']\n",
            " ['China' 'China']\n",
            " ['China' 'China']\n",
            " ['China' 'China']\n",
            " ['Netherlands' 'Netherlands']\n",
            " ['Denmark' 'Denmark']\n",
            " ['Netherlands' 'Netherlands']\n",
            " ['USA' 'Denmark']\n",
            " ['China' 'China']\n",
            " ['Netherlands' 'Netherlands']\n",
            " ['Netherlands' 'Netherlands']\n",
            " ['Denmark' 'Denmark']\n",
            " ['USA' 'USA']\n",
            " ['Madagascar' 'Madagascar']\n",
            " ['Sweden' 'Sweden']\n",
            " ['China' 'China']\n",
            " ['Netherlands' 'Netherlands']\n",
            " ['USA' 'USA']\n",
            " ['Netherlands' 'Netherlands']\n",
            " ['Madagascar' 'China']\n",
            " ['China' 'Russia']\n",
            " ['Denmark' 'Denmark']\n",
            " ['China' 'China']\n",
            " ['Madagascar' 'Madagascar']\n",
            " ['China' 'Denmark']\n",
            " ['Netherlands' 'Netherlands']\n",
            " ['Netherlands' 'Netherlands']\n",
            " ['Madagascar' 'Madagascar']\n",
            " ['Netherlands' 'Italy']\n",
            " ['China' 'Denmark']\n",
            " ['Netherlands' 'Netherlands']\n",
            " ['Netherlands' 'Netherlands']\n",
            " ['China' 'Denmark']\n",
            " ['USA' 'USA']\n",
            " ['USA' 'Sweden']\n",
            " ['China' 'China']\n",
            " ['USA' 'USA']\n",
            " ['Netherlands' 'Italy']\n",
            " ['China' 'China']\n",
            " ['Madagascar' 'Madagascar']\n",
            " ['China' 'Netherlands']\n",
            " ['Denmark' 'China']\n",
            " ['Denmark' 'Denmark']\n",
            " ['Netherlands' 'Netherlands']\n",
            " ['Denmark' 'Sweden']\n",
            " ['Netherlands' 'Netherlands']\n",
            " ['Madagascar' 'Madagascar']\n",
            " ['China' 'China']\n",
            " ['Netherlands' 'Netherlands']\n",
            " ['Netherlands' 'Netherlands']\n",
            " ['Netherlands' 'Netherlands']\n",
            " ['Denmark' 'China']\n",
            " ['Netherlands' 'Denmark']\n",
            " ['China' 'Sweden']\n",
            " ['China' 'China']\n",
            " ['Denmark' 'USA']\n",
            " ['Netherlands' 'Netherlands']\n",
            " ['Madagascar' 'Netherlands']\n",
            " ['Denmark' 'Netherlands']\n",
            " ['China' 'USA']\n",
            " ['Netherlands' 'Netherlands']\n",
            " ['USA' 'USA']\n",
            " ['Finland' 'USA']\n",
            " ['Denmark' 'Madagascar']\n",
            " ['China' 'China']\n",
            " ['China' 'China']\n",
            " ['Netherlands' 'Netherlands']\n",
            " ['Netherlands' 'Netherlands']\n",
            " ['China' 'Madagascar']\n",
            " ['Netherlands' 'Netherlands']\n",
            " ['Netherlands' 'Denmark']\n",
            " ['Sweden' 'China']\n",
            " ['Netherlands' 'Netherlands']\n",
            " ['USA' 'Russia']\n",
            " ['Madagascar' 'Denmark']\n",
            " ['China' 'Netherlands']\n",
            " ['China' 'USA']\n",
            " ['USA' 'China']\n",
            " ['Netherlands' 'Netherlands']\n",
            " ['Madagascar' 'Madagascar']\n",
            " ['USA' 'China']\n",
            " ['Netherlands' 'Netherlands']\n",
            " ['Netherlands' 'USA']\n",
            " ['Netherlands' 'Netherlands']\n",
            " ['Madagascar' 'Madagascar']\n",
            " ['Denmark' 'Denmark']\n",
            " ['USA' 'USA']\n",
            " ['Netherlands' 'Netherlands']\n",
            " ['Netherlands' 'Netherlands']\n",
            " ['Netherlands' 'Netherlands']\n",
            " ['Netherlands' 'Netherlands']\n",
            " ['China' 'Sweden']\n",
            " ['Denmark' 'Denmark']\n",
            " ['Madagascar' 'Madagascar']\n",
            " ['China' 'USA']\n",
            " ['China' 'USA']\n",
            " ['USA' 'USA']\n",
            " ['Netherlands' 'USA']\n",
            " ['Denmark' 'Denmark']\n",
            " ['Denmark' 'Madagascar']\n",
            " ['Netherlands' 'Netherlands']\n",
            " ['China' 'China']\n",
            " ['Netherlands' 'Netherlands']\n",
            " ['Sweden' 'Italy']\n",
            " ['Netherlands' 'Netherlands']\n",
            " ['Netherlands' 'Netherlands']\n",
            " ['Madagascar' 'Madagascar']\n",
            " ['USA' 'China']\n",
            " ['Netherlands' 'Netherlands']\n",
            " ['USA' 'Sweden']\n",
            " ['Netherlands' 'Netherlands']\n",
            " ['Madagascar' 'China']\n",
            " ['Sweden' 'China']\n",
            " ['China' 'Egypt']\n",
            " ['Netherlands' 'Netherlands']\n",
            " ['Netherlands' 'China']\n",
            " ['USA' 'China']\n",
            " ['Italy' 'Italy']\n",
            " ['China' 'China']\n",
            " ['Netherlands' 'Netherlands']\n",
            " ['China' 'China']\n",
            " ['Finland' 'Russia']\n",
            " ['Denmark' 'Denmark']\n",
            " ['Netherlands' 'Netherlands']\n",
            " ['China' 'China']\n",
            " ['Denmark' 'China']\n",
            " ['China' 'USA']\n",
            " ['USA' 'USA']\n",
            " ['China' 'China']\n",
            " ['Netherlands' 'Netherlands']\n",
            " ['China' 'China']\n",
            " ['Netherlands' 'Netherlands']\n",
            " ['China' 'Finland']\n",
            " ['Finland' 'China']\n",
            " ['Netherlands' 'Denmark']\n",
            " ['China' 'China']\n",
            " ['Denmark' 'USA']\n",
            " ['Netherlands' 'Netherlands']\n",
            " ['Netherlands' 'Denmark']\n",
            " ['China' 'China']\n",
            " ['Madagascar' 'Madagascar']\n",
            " ['Denmark' 'USA']\n",
            " ['Finland' 'Finland']\n",
            " ['Netherlands' 'Netherlands']\n",
            " ['Netherlands' 'Netherlands']\n",
            " ['Netherlands' 'China']\n",
            " ['China' 'Netherlands']\n",
            " ['Netherlands' 'Netherlands']\n",
            " ['Madagascar' 'Madagascar']\n",
            " ['Netherlands' 'Netherlands']\n",
            " ['USA' 'China']\n",
            " ['Netherlands' 'USA']\n",
            " ['China' 'USA']\n",
            " ['Netherlands' 'Sweden']\n",
            " ['Netherlands' 'Netherlands']\n",
            " ['Denmark' 'Netherlands']\n",
            " ['Netherlands' 'Netherlands']\n",
            " ['Netherlands' 'Netherlands']\n",
            " ['China' 'China']\n",
            " ['USA' 'USA']\n",
            " ['Netherlands' 'Netherlands']\n",
            " ['China' 'Finland']\n",
            " ['China' 'Sweden']\n",
            " ['China' 'China']\n",
            " ['China' 'Sweden']\n",
            " ['Netherlands' 'Netherlands']\n",
            " ['Netherlands' 'Netherlands']\n",
            " ['Netherlands' 'Denmark']\n",
            " ['Finland' 'China']\n",
            " ['Netherlands' 'Netherlands']\n",
            " ['USA' 'China']\n",
            " ['Netherlands' 'Italy']\n",
            " ['China' 'USA']\n",
            " ['China' 'USA']\n",
            " ['Netherlands' 'Denmark']\n",
            " ['USA' 'USA']\n",
            " ['Netherlands' 'Netherlands']\n",
            " ['Netherlands' 'Netherlands']\n",
            " ['USA' 'USA']\n",
            " ['Denmark' 'Denmark']\n",
            " ['USA' 'USA']\n",
            " ['Sweden' 'China']\n",
            " ['Finland' 'Finland']\n",
            " ['China' 'China']\n",
            " ['Netherlands' 'Netherlands']\n",
            " ['Netherlands' 'China']\n",
            " ['Netherlands' 'Netherlands']\n",
            " ['Denmark' 'Denmark']\n",
            " ['Denmark' 'Denmark']\n",
            " ['USA' 'USA']\n",
            " ['Netherlands' 'Netherlands']\n",
            " ['China' 'Russia']\n",
            " ['USA' 'USA']\n",
            " ['Netherlands' 'Netherlands']\n",
            " ['China' 'Denmark']\n",
            " ['China' 'Sweden']\n",
            " ['China' 'China']\n",
            " ['Denmark' 'Netherlands']\n",
            " ['China' 'Madagascar']\n",
            " ['USA' 'USA']\n",
            " ['China' 'China']\n",
            " ['Netherlands' 'Netherlands']\n",
            " ['USA' 'USA']\n",
            " ['Denmark' 'Netherlands']\n",
            " ['Finland' 'Denmark']\n",
            " ['Madagascar' 'Madagascar']\n",
            " ['Netherlands' 'Netherlands']\n",
            " ['China' 'China']\n",
            " ['China' 'China']\n",
            " ['Netherlands' 'Netherlands']\n",
            " ['Denmark' 'Denmark']\n",
            " ['Madagascar' 'Madagascar']\n",
            " ['China' 'China']\n",
            " ['USA' 'USA']\n",
            " ['Netherlands' 'Netherlands']\n",
            " ['USA' 'USA']\n",
            " ['Netherlands' 'Finland']\n",
            " ['Finland' 'USA']\n",
            " ['Denmark' 'Denmark']\n",
            " ['Netherlands' 'Netherlands']\n",
            " ['China' 'China']\n",
            " ['China' 'Sweden']\n",
            " ['USA' 'USA']\n",
            " ['Denmark' 'Netherlands']\n",
            " ['Netherlands' 'China']\n",
            " ['China' 'Canada']\n",
            " ['Netherlands' 'Russia']\n",
            " ['Netherlands' 'Netherlands']\n",
            " ['China' 'China']\n",
            " ['Finland' 'Finland']\n",
            " ['Denmark' 'Denmark']\n",
            " ['USA' 'USA']\n",
            " ['Netherlands' 'Netherlands']\n",
            " ['USA' 'USA']\n",
            " ['USA' 'USA']\n",
            " ['Netherlands' 'Netherlands']\n",
            " ['Netherlands' 'Netherlands']\n",
            " ['Denmark' 'Denmark']\n",
            " ['Denmark' 'Netherlands']\n",
            " ['Netherlands' 'Netherlands']\n",
            " ['Netherlands' 'Netherlands']\n",
            " ['Netherlands' 'Netherlands']\n",
            " ['Sweden' 'Netherlands']\n",
            " ['Madagascar' 'Madagascar']\n",
            " ['USA' 'USA']\n",
            " ['China' 'China']\n",
            " ['China' 'Finland']\n",
            " ['Finland' 'Finland']\n",
            " ['Madagascar' 'Madagascar']\n",
            " ['USA' 'USA']\n",
            " ['China' 'Sweden']\n",
            " ['Finland' 'China']\n",
            " ['China' 'Canada']\n",
            " ['Netherlands' 'Netherlands']\n",
            " ['China' 'Sweden']\n",
            " ['USA' 'Canada']\n",
            " ['Netherlands' 'Netherlands']\n",
            " ['Netherlands' 'Madagascar']\n",
            " ['China' 'Denmark']\n",
            " ['Netherlands' 'Netherlands']\n",
            " ['Netherlands' 'Netherlands']\n",
            " ['Netherlands' 'Netherlands']\n",
            " ['Denmark' 'Denmark']\n",
            " ['Denmark' 'Denmark']\n",
            " ['Finland' 'China']\n",
            " ['China' 'Canada']\n",
            " ['Netherlands' 'Netherlands']\n",
            " ['China' 'Madagascar']\n",
            " ['USA' 'USA']\n",
            " ['Madagascar' 'Madagascar']\n",
            " ['China' 'China']\n",
            " ['USA' 'Finland']\n",
            " ['Madagascar' 'Madagascar']\n",
            " ['China' 'China']\n",
            " ['Netherlands' 'Netherlands']\n",
            " ['Finland' 'Netherlands']\n",
            " ['Netherlands' 'Netherlands']\n",
            " ['Netherlands' 'USA']\n",
            " ['Madagascar' 'Egypt']\n",
            " ['China' 'Canada']\n",
            " ['USA' 'China']\n",
            " ['Finland' 'USA']\n",
            " ['Netherlands' 'Netherlands']\n",
            " ['Madagascar' 'Madagascar']\n",
            " ['Netherlands' 'Netherlands']\n",
            " ['Denmark' 'Denmark']\n",
            " ['China' 'China']\n",
            " ['Madagascar' 'Madagascar']\n",
            " ['Denmark' 'Denmark']\n",
            " ['China' 'China']\n",
            " ['China' 'Madagascar']\n",
            " ['Netherlands' 'Denmark']\n",
            " ['Netherlands' 'Denmark']\n",
            " ['USA' 'USA']\n",
            " ['Netherlands' 'Netherlands']\n",
            " ['USA' 'USA']\n",
            " ['Madagascar' 'Madagascar']\n",
            " ['Denmark' 'USA']\n",
            " ['Netherlands' 'Netherlands']\n",
            " ['Netherlands' 'Netherlands']\n",
            " ['Madagascar' 'Netherlands']\n",
            " ['Netherlands' 'China']\n",
            " ['Netherlands' 'Netherlands']\n",
            " ['Denmark' 'Madagascar']\n",
            " ['China' 'China']\n",
            " ['Netherlands' 'Denmark']\n",
            " ['China' 'China']\n",
            " ['Netherlands' 'Netherlands']\n",
            " ['China' 'China']\n",
            " ['China' 'Sweden']\n",
            " ['China' 'Canada']\n",
            " ['China' 'Canada']\n",
            " ['China' 'China']\n",
            " ['USA' 'China']\n",
            " ['USA' 'China']\n",
            " ['China' 'China']\n",
            " ['China' 'Netherlands']]\n"
          ]
        }
      ]
    },
    {
      "cell_type": "markdown",
      "metadata": {
        "id": "h4Hwj34ziWQW"
      },
      "source": [
        "## Making the Confusion Matrix"
      ]
    },
    {
      "cell_type": "code",
      "metadata": {
        "id": "D6bpZwUiiXic",
        "colab": {
          "base_uri": "https://localhost:8080/"
        },
        "outputId": "3f21825f-63ce-4f7e-d9dd-b348c862292f"
      },
      "source": [
        "from sklearn.metrics import confusion_matrix, accuracy_score\n",
        "cm = confusion_matrix(y_test, y_pred)\n",
        "print(cm)\n",
        "accuracy_score(y_test, y_pred)"
      ],
      "execution_count": null,
      "outputs": [
        {
          "output_type": "stream",
          "name": "stdout",
          "text": [
            "[[ 0  7  0  0  0  0  0  0  0  0  1]\n",
            " [ 0 43  6  0  4  0  4  6  0  4  9]\n",
            " [ 0  6 26  0  1  0  1  9  0  0  1]\n",
            " [ 0  1  0  0  0  0  1  0  0  0  0]\n",
            " [ 0  3  0  0  4  0  0  2  0  0  1]\n",
            " [ 0  0  0  0  0  1  0  3  0  1  0]\n",
            " [ 0  4  3  0  0  0 24  1  0  0  0]\n",
            " [ 0  4  9  0  1  0  2 97  0  1  0]\n",
            " [ 0  2  0  0  1  0  0  1  0  0  1]\n",
            " [ 0 10  2  0  0  0  0  1  0  2  2]\n",
            " [ 0 10  4  0  3  0  0  4  0  0 29]]\n"
          ]
        },
        {
          "output_type": "execute_result",
          "data": {
            "text/plain": [
              "0.6225895316804407"
            ]
          },
          "metadata": {},
          "execution_count": 11
        }
      ]
    },
    {
      "cell_type": "markdown",
      "metadata": {
        "id": "Thl5YUE9_2i8"
      },
      "source": [
        "**Applying k-Fold Cross Validation**"
      ]
    },
    {
      "cell_type": "code",
      "metadata": {
        "colab": {
          "base_uri": "https://localhost:8080/"
        },
        "id": "2pdbHv8n_38D",
        "outputId": "593e07b9-f09c-4d73-8895-a565e3b1e558"
      },
      "source": [
        "from sklearn.model_selection import cross_val_score\n",
        "accuracies = cross_val_score(estimator = classifier, X = X_train, y = y_train, cv = 10)\n",
        "print(\"Accuracy: {:.2f} %\".format(accuracies.mean()*100))\n",
        "print(\"Standard Deviation: {:.2f} %\".format(accuracies.std()*100))"
      ],
      "execution_count": null,
      "outputs": [
        {
          "output_type": "stream",
          "name": "stderr",
          "text": [
            "The least populated class in y has only 5 members, which is less than n_splits=10.\n"
          ]
        },
        {
          "output_type": "stream",
          "name": "stdout",
          "text": [
            "Accuracy: 61.98 %\n",
            "Standard Deviation: 2.81 %\n"
          ]
        }
      ]
    },
    {
      "cell_type": "markdown",
      "metadata": {
        "id": "wyQN9tD51jPX"
      },
      "source": [
        "**Feature Importance Analysis**"
      ]
    },
    {
      "cell_type": "code",
      "metadata": {
        "colab": {
          "base_uri": "https://localhost:8080/"
        },
        "id": "1Zxu_oKR9FY_",
        "outputId": "f1f6d406-651d-42fc-9b60-1a3677361bd7"
      },
      "source": [
        "classifier.feature_importances_"
      ],
      "execution_count": null,
      "outputs": [
        {
          "output_type": "execute_result",
          "data": {
            "text/plain": [
              "array([0.23594675, 0.22206124, 0.16312876, 0.22203626, 0.12293449,\n",
              "       0.0338925 ])"
            ]
          },
          "metadata": {},
          "execution_count": 13
        }
      ]
    },
    {
      "cell_type": "code",
      "metadata": {
        "colab": {
          "base_uri": "https://localhost:8080/",
          "height": 296
        },
        "id": "RJIOdlypLm0c",
        "outputId": "e332d278-295c-4de6-f88d-d6adcd03f13b"
      },
      "source": [
        "#Feature importance using Feature importance attribute in Random forest classifier\n",
        "feat_importances = pd.Series(classifier.feature_importances_, index=dataset.columns[0:6])\n",
        "feat_importances.nlargest(7).plot(kind='barh')\n",
        "plt.xlabel(\"Random Forest Feature Importance\")"
      ],
      "execution_count": null,
      "outputs": [
        {
          "output_type": "execute_result",
          "data": {
            "text/plain": [
              "Text(0.5, 0, 'Random Forest Feature Importance')"
            ]
          },
          "metadata": {},
          "execution_count": 14
        },
        {
          "output_type": "display_data",
          "data": {
            "image/png": "[encoded data removed]",
            "text/plain": [
              "<Figure size 432x288 with 1 Axes>"
            ]
          },
          "metadata": {
            "needs_background": "light"
          }
        }
      ]
    },
    {
      "cell_type": "code",
      "metadata": {
        "colab": {
          "base_uri": "https://localhost:8080/",
          "height": 296
        },
        "id": "MxiUxqo-QgYs",
        "outputId": "1cef188c-43d0-4428-e8ad-9ee9869088fa"
      },
      "source": [
        "sorted_idx = classifier.feature_importances_.argsort()\n",
        "plt.barh(dataset.columns[0:7][sorted_idx], classifier.feature_importances_[sorted_idx])\n",
        "plt.xlabel(\"Random Forest Feature Importance\")"
      ],
      "execution_count": null,
      "outputs": [
        {
          "output_type": "execute_result",
          "data": {
            "text/plain": [
              "Text(0.5, 0, 'Random Forest Feature Importance')"
            ]
          },
          "metadata": {},
          "execution_count": 15
        },
        {
          "output_type": "display_data",
          "data": {
            "image/png": "[encoded data removed]",
            "text/plain": [
              "<Figure size 432x288 with 1 Axes>"
            ]
          },
          "metadata": {
            "needs_background": "light"
          }
        }
      ]
    },
    {
      "cell_type": "code",
      "metadata": {
        "colab": {
          "base_uri": "https://localhost:8080/"
        },
        "id": "iCZUKYl6O8RQ",
        "outputId": "2a61a742-bf86-4d41-d114-44d12e2be539"
      },
      "source": [
        "permutation_importance(classifier, X_test, y_test)"
      ],
      "execution_count": null,
      "outputs": [
        {
          "output_type": "execute_result",
          "data": {
            "text/plain": [
              "{'importances': array([[ 0.06887052,  0.10192837,  0.12396694,  0.11570248,  0.07713499],\n",
              "        [ 0.184573  ,  0.1707989 ,  0.15977961,  0.19559229,  0.17355372],\n",
              "        [-0.01928375,  0.01101928, -0.00550964,  0.        ,  0.        ],\n",
              "        [ 0.1707989 ,  0.18181818,  0.14325069,  0.17906336,  0.19008264],\n",
              "        [ 0.06336088,  0.05509642,  0.07438017,  0.09641873,  0.04683196],\n",
              "        [ 0.02754821,  0.03030303,  0.01101928,  0.03305785,  0.00826446]]),\n",
              " 'importances_mean': array([ 0.09752066,  0.1768595 , -0.00275482,  0.17300275,  0.06721763,\n",
              "         0.02203857]),\n",
              " 'importances_std': array([0.02138139, 0.01224579, 0.00985595, 0.01610098, 0.01721267,\n",
              "        0.0103076 ])}"
            ]
          },
          "metadata": {},
          "execution_count": 16
        }
      ]
    },
    {
      "cell_type": "code",
      "metadata": {
        "id": "8CUCtzXoPzJN",
        "colab": {
          "base_uri": "https://localhost:8080/",
          "height": 296
        },
        "outputId": "3c440325-7c33-405b-e372-78c9065bd3bb"
      },
      "source": [
        "#Feature importance using Permutation Feature importance\n",
        "perm_importance = permutation_importance(classifier, X_test, y_test)\n",
        "sorted_idx = perm_importance.importances_mean.argsort()\n",
        "plt.barh(dataset.columns[0:6][sorted_idx], perm_importance.importances_mean[sorted_idx])\n",
        "plt.xlabel(\"Random Forest permutation importance\")"
      ],
      "execution_count": null,
      "outputs": [
        {
          "output_type": "execute_result",
          "data": {
            "text/plain": [
              "Text(0.5, 0, 'Random Forest permutation importance')"
            ]
          },
          "metadata": {},
          "execution_count": 17
        },
        {
          "output_type": "display_data",
          "data": {
            "image/png": "[encoded data removed]",
            "text/plain": [
              "<Figure size 432x288 with 1 Axes>"
            ]
          },
          "metadata": {
            "needs_background": "light"
          }
        }
      ]
    },
    {
      "cell_type": "code",
      "metadata": {
        "colab": {
          "base_uri": "https://localhost:8080/",
          "height": 296
        },
        "id": "CnA5jRSTNisH",
        "outputId": "c23dcf5c-5892-4818-8093-b37efc775e57"
      },
      "source": [
        "perm_importance = permutation_importance(classifier, X_test, y_test)\n",
        "sorted_idx = perm_importance.importances_mean.argsort()\n",
        "plt.barh(dataset.columns[0:6][sorted_idx], perm_importance.importances_mean[sorted_idx])\n",
        "plt.xlabel(\"Random Forest permutation importance\")"
      ],
      "execution_count": null,
      "outputs": [
        {
          "output_type": "execute_result",
          "data": {
            "text/plain": [
              "Text(0.5, 0, 'Random Forest permutation importance')"
            ]
          },
          "metadata": {},
          "execution_count": 18
        },
        {
          "output_type": "display_data",
          "data": {
            "image/png": "[encoded data removed]",
            "text/plain": [
              "<Figure size 432x288 with 1 Axes>"
            ]
          },
          "metadata": {
            "needs_background": "light"
          }
        }
      ]
    },
    {
      "cell_type": "code",
      "metadata": {
        "id": "qFvroI98WKJP"
      },
      "source": [
        "#Feature importance using SHAP values from SHAP library\n",
        "explainer = shap.TreeExplainer(classifier)\n",
        "shap_values = explainer.shap_values(X_test)"
      ],
      "execution_count": null,
      "outputs": []
    },
    {
      "cell_type": "code",
      "metadata": {
        "colab": {
          "base_uri": "https://localhost:8080/",
          "height": 284
        },
        "id": "ioV2530KXiHI",
        "outputId": "9735ed2c-51d3-400b-b749-a45c6a2b78f2"
      },
      "source": [
        "shap.summary_plot(shap_values, X_test, plot_type=\"bar\")"
      ],
      "execution_count": null,
      "outputs": [
        {
          "output_type": "display_data",
          "data": {
            "image/png": "[encoded data removed]",
            "text/plain": [
              "<Figure size 576x280.8 with 1 Axes>"
            ]
          },
          "metadata": {
            "needs_background": "light"
          }
        }
      ]
    },
    {
      "cell_type": "code",
      "metadata": {
        "colab": {
          "base_uri": "https://localhost:8080/",
          "height": 284
        },
        "id": "DHhOs0pwX62A",
        "outputId": "6b37d2be-f737-41d0-9ad9-70fe76e220e3"
      },
      "source": [
        "#Class = [\"Very High\", \"High\", \"Medium\", \"Low\"]\n",
        "#Class2 = [\"Low\", \"High\", \"Medium\", \"Very High\"]\n",
        "shap.summary_plot(shap_values, X_test, feature_names= dataset.columns,\n",
        "                  class_names = classifier.classes_)\n"
      ],
      "execution_count": null,
      "outputs": [
        {
          "output_type": "display_data",
          "data": {
            "image/png": "[encoded data removed]",
            "text/plain": [
              "<Figure size 576x280.8 with 1 Axes>"
            ]
          },
          "metadata": {
            "needs_background": "light"
          }
        }
      ]
    },
    {
      "cell_type": "code",
      "source": [
        "#grid search\n",
        "from sklearn.model_selection import GridSearchCV\n",
        "n_estimators = [100, 300, 500, 800, 1200]\n",
        "max_depth = [5, 8, 15, 25, 30]\n",
        "min_samples_split = [2, 5, 10, 15, 100]\n",
        "min_samples_leaf = [1, 2, 5, 10] \n",
        "\n",
        "hyperF = dict(n_estimators = n_estimators, max_depth = max_depth,  \n",
        "              min_samples_split = min_samples_split, \n",
        "             min_samples_leaf = min_samples_leaf)\n",
        "\n",
        "gridF = GridSearchCV(RandomForestClassifier(), hyperF, cv = 3, verbose = 1, n_jobs = -1)\n",
        "bestF = gridF.fit(X_train, y_train)"
      ],
      "metadata": {
        "colab": {
          "base_uri": "https://localhost:8080/"
        },
        "id": "GrjTV1PoUZQ2",
        "outputId": "dde4e53e-a637-4105-a30d-76591b7d40bf"
      },
      "execution_count": null,
      "outputs": [
        {
          "output_type": "stream",
          "name": "stdout",
          "text": [
            "Fitting 3 folds for each of 500 candidates, totalling 1500 fits\n"
          ]
        }
      ]
    },
    {
      "cell_type": "code",
      "source": [
        "y_pred = bestF.predict(X_test)\n",
        "print(np.concatenate((y_pred.reshape(len(y_pred),1), y_test.reshape(len(y_test),1)),1))"
      ],
      "metadata": {
        "colab": {
          "base_uri": "https://localhost:8080/"
        },
        "id": "3b0kwYt3a90J",
        "outputId": "43f6abbe-0afe-41b5-a8a8-02b51f7bde22"
      },
      "execution_count": null,
      "outputs": [
        {
          "output_type": "stream",
          "name": "stdout",
          "text": [
            "[['Denmark' 'Denmark']\n",
            " ['Denmark' 'Denmark']\n",
            " ['Netherlands' 'Netherlands']\n",
            " ['Denmark' 'China']\n",
            " ['Denmark' 'Netherlands']\n",
            " ['Netherlands' 'China']\n",
            " ['Netherlands' 'Netherlands']\n",
            " ['Denmark' 'Denmark']\n",
            " ['Netherlands' 'Netherlands']\n",
            " ['Netherlands' 'Netherlands']\n",
            " ['Netherlands' 'Netherlands']\n",
            " ['Denmark' 'Denmark']\n",
            " ['Madagascar' 'Madagascar']\n",
            " ['China' 'China']\n",
            " ['Madagascar' 'Madagascar']\n",
            " ['Netherlands' 'Netherlands']\n",
            " ['Netherlands' 'Netherlands']\n",
            " ['Madagascar' 'Madagascar']\n",
            " ['Netherlands' 'Finland']\n",
            " ['Denmark' 'Denmark']\n",
            " ['Madagascar' 'China']\n",
            " ['USA' 'USA']\n",
            " ['Netherlands' 'China']\n",
            " ['Netherlands' 'Netherlands']\n",
            " ['China' 'China']\n",
            " ['Madagascar' 'Madagascar']\n",
            " ['Netherlands' 'Netherlands']\n",
            " ['Netherlands' 'Netherlands']\n",
            " ['Netherlands' 'China']\n",
            " ['Denmark' 'Denmark']\n",
            " ['China' 'Canada']\n",
            " ['Denmark' 'USA']\n",
            " ['Denmark' 'Denmark']\n",
            " ['Madagascar' 'China']\n",
            " ['Sweden' 'Sweden']\n",
            " ['Netherlands' 'Netherlands']\n",
            " ['Denmark' 'Denmark']\n",
            " ['Netherlands' 'Netherlands']\n",
            " ['Netherlands' 'Netherlands']\n",
            " ['Netherlands' 'Sweden']\n",
            " ['USA' 'USA']\n",
            " ['China' 'China']\n",
            " ['USA' 'USA']\n",
            " ['Netherlands' 'Netherlands']\n",
            " ['Netherlands' 'Netherlands']\n",
            " ['China' 'China']\n",
            " ['China' 'Sweden']\n",
            " ['China' 'China']\n",
            " ['China' 'China']\n",
            " ['China' 'China']\n",
            " ['Netherlands' 'Netherlands']\n",
            " ['China' 'Denmark']\n",
            " ['Netherlands' 'Netherlands']\n",
            " ['USA' 'Denmark']\n",
            " ['China' 'China']\n",
            " ['Netherlands' 'Netherlands']\n",
            " ['Netherlands' 'Netherlands']\n",
            " ['Denmark' 'Denmark']\n",
            " ['USA' 'USA']\n",
            " ['Denmark' 'Madagascar']\n",
            " ['China' 'Sweden']\n",
            " ['China' 'China']\n",
            " ['Netherlands' 'Netherlands']\n",
            " ['USA' 'USA']\n",
            " ['Netherlands' 'Netherlands']\n",
            " ['Madagascar' 'China']\n",
            " ['USA' 'Russia']\n",
            " ['Denmark' 'Denmark']\n",
            " ['China' 'China']\n",
            " ['Madagascar' 'Madagascar']\n",
            " ['China' 'Denmark']\n",
            " ['Netherlands' 'Netherlands']\n",
            " ['Netherlands' 'Netherlands']\n",
            " ['Madagascar' 'Madagascar']\n",
            " ['Netherlands' 'Italy']\n",
            " ['China' 'Denmark']\n",
            " ['Netherlands' 'Netherlands']\n",
            " ['Netherlands' 'Netherlands']\n",
            " ['China' 'Denmark']\n",
            " ['USA' 'USA']\n",
            " ['China' 'Sweden']\n",
            " ['China' 'China']\n",
            " ['USA' 'USA']\n",
            " ['Netherlands' 'Italy']\n",
            " ['USA' 'China']\n",
            " ['Madagascar' 'Madagascar']\n",
            " ['China' 'Netherlands']\n",
            " ['Denmark' 'China']\n",
            " ['Netherlands' 'Denmark']\n",
            " ['Netherlands' 'Netherlands']\n",
            " ['Denmark' 'Sweden']\n",
            " ['Netherlands' 'Netherlands']\n",
            " ['China' 'Madagascar']\n",
            " ['China' 'China']\n",
            " ['Netherlands' 'Netherlands']\n",
            " ['Netherlands' 'Netherlands']\n",
            " ['Netherlands' 'Netherlands']\n",
            " ['Denmark' 'China']\n",
            " ['Netherlands' 'Denmark']\n",
            " ['China' 'Sweden']\n",
            " ['China' 'China']\n",
            " ['China' 'USA']\n",
            " ['Netherlands' 'Netherlands']\n",
            " ['Denmark' 'Netherlands']\n",
            " ['Netherlands' 'Netherlands']\n",
            " ['China' 'USA']\n",
            " ['Netherlands' 'Netherlands']\n",
            " ['USA' 'USA']\n",
            " ['USA' 'USA']\n",
            " ['Denmark' 'Madagascar']\n",
            " ['China' 'China']\n",
            " ['China' 'China']\n",
            " ['Netherlands' 'Netherlands']\n",
            " ['Netherlands' 'Netherlands']\n",
            " ['China' 'Madagascar']\n",
            " ['Netherlands' 'Netherlands']\n",
            " ['Netherlands' 'Denmark']\n",
            " ['Sweden' 'China']\n",
            " ['Netherlands' 'Netherlands']\n",
            " ['USA' 'Russia']\n",
            " ['Madagascar' 'Denmark']\n",
            " ['Netherlands' 'Netherlands']\n",
            " ['China' 'USA']\n",
            " ['USA' 'China']\n",
            " ['Netherlands' 'Netherlands']\n",
            " ['Denmark' 'Madagascar']\n",
            " ['China' 'China']\n",
            " ['Netherlands' 'Netherlands']\n",
            " ['Netherlands' 'USA']\n",
            " ['Netherlands' 'Netherlands']\n",
            " ['Madagascar' 'Madagascar']\n",
            " ['Denmark' 'Denmark']\n",
            " ['USA' 'USA']\n",
            " ['Netherlands' 'Netherlands']\n",
            " ['Netherlands' 'Netherlands']\n",
            " ['Netherlands' 'Netherlands']\n",
            " ['Netherlands' 'Netherlands']\n",
            " ['China' 'Sweden']\n",
            " ['Denmark' 'Denmark']\n",
            " ['Madagascar' 'Madagascar']\n",
            " ['China' 'USA']\n",
            " ['China' 'USA']\n",
            " ['USA' 'USA']\n",
            " ['Netherlands' 'USA']\n",
            " ['Denmark' 'Denmark']\n",
            " ['USA' 'Madagascar']\n",
            " ['Netherlands' 'Netherlands']\n",
            " ['China' 'China']\n",
            " ['Netherlands' 'Netherlands']\n",
            " ['Sweden' 'Italy']\n",
            " ['Netherlands' 'Netherlands']\n",
            " ['Netherlands' 'Netherlands']\n",
            " ['Madagascar' 'Madagascar']\n",
            " ['China' 'China']\n",
            " ['Netherlands' 'Netherlands']\n",
            " ['USA' 'Sweden']\n",
            " ['Netherlands' 'Netherlands']\n",
            " ['Madagascar' 'China']\n",
            " ['China' 'China']\n",
            " ['China' 'Egypt']\n",
            " ['Netherlands' 'Netherlands']\n",
            " ['Netherlands' 'China']\n",
            " ['China' 'China']\n",
            " ['Netherlands' 'Italy']\n",
            " ['China' 'China']\n",
            " ['Netherlands' 'Netherlands']\n",
            " ['China' 'China']\n",
            " ['China' 'Russia']\n",
            " ['Denmark' 'Denmark']\n",
            " ['Netherlands' 'Netherlands']\n",
            " ['China' 'China']\n",
            " ['Netherlands' 'China']\n",
            " ['USA' 'USA']\n",
            " ['USA' 'USA']\n",
            " ['China' 'China']\n",
            " ['Netherlands' 'Netherlands']\n",
            " ['USA' 'China']\n",
            " ['Netherlands' 'Netherlands']\n",
            " ['China' 'Finland']\n",
            " ['China' 'China']\n",
            " ['Netherlands' 'Denmark']\n",
            " ['China' 'China']\n",
            " ['Denmark' 'USA']\n",
            " ['Netherlands' 'Netherlands']\n",
            " ['Netherlands' 'Denmark']\n",
            " ['China' 'China']\n",
            " ['Madagascar' 'Madagascar']\n",
            " ['Denmark' 'USA']\n",
            " ['China' 'Finland']\n",
            " ['Netherlands' 'Netherlands']\n",
            " ['Netherlands' 'Netherlands']\n",
            " ['Netherlands' 'China']\n",
            " ['China' 'Netherlands']\n",
            " ['Netherlands' 'Netherlands']\n",
            " ['Madagascar' 'Madagascar']\n",
            " ['Netherlands' 'Netherlands']\n",
            " ['China' 'China']\n",
            " ['Netherlands' 'USA']\n",
            " ['China' 'USA']\n",
            " ['Netherlands' 'Sweden']\n",
            " ['Netherlands' 'Netherlands']\n",
            " ['Netherlands' 'Netherlands']\n",
            " ['Netherlands' 'Netherlands']\n",
            " ['Netherlands' 'Netherlands']\n",
            " ['China' 'China']\n",
            " ['USA' 'USA']\n",
            " ['Netherlands' 'Netherlands']\n",
            " ['China' 'Finland']\n",
            " ['China' 'Sweden']\n",
            " ['China' 'China']\n",
            " ['China' 'Sweden']\n",
            " ['Netherlands' 'Netherlands']\n",
            " ['Netherlands' 'Netherlands']\n",
            " ['Netherlands' 'Denmark']\n",
            " ['China' 'China']\n",
            " ['Netherlands' 'Netherlands']\n",
            " ['USA' 'China']\n",
            " ['Netherlands' 'Italy']\n",
            " ['China' 'USA']\n",
            " ['China' 'USA']\n",
            " ['Denmark' 'Denmark']\n",
            " ['USA' 'USA']\n",
            " ['Netherlands' 'Netherlands']\n",
            " ['Netherlands' 'Netherlands']\n",
            " ['USA' 'USA']\n",
            " ['Denmark' 'Denmark']\n",
            " ['USA' 'USA']\n",
            " ['Sweden' 'China']\n",
            " ['China' 'Finland']\n",
            " ['China' 'China']\n",
            " ['Netherlands' 'Netherlands']\n",
            " ['Netherlands' 'China']\n",
            " ['Netherlands' 'Netherlands']\n",
            " ['Denmark' 'Denmark']\n",
            " ['Denmark' 'Denmark']\n",
            " ['USA' 'USA']\n",
            " ['Netherlands' 'Netherlands']\n",
            " ['China' 'Russia']\n",
            " ['USA' 'USA']\n",
            " ['Netherlands' 'Netherlands']\n",
            " ['China' 'Denmark']\n",
            " ['China' 'Sweden']\n",
            " ['China' 'China']\n",
            " ['Netherlands' 'Netherlands']\n",
            " ['China' 'Madagascar']\n",
            " ['USA' 'USA']\n",
            " ['China' 'China']\n",
            " ['Netherlands' 'Netherlands']\n",
            " ['USA' 'USA']\n",
            " ['China' 'Netherlands']\n",
            " ['China' 'Denmark']\n",
            " ['Madagascar' 'Madagascar']\n",
            " ['Netherlands' 'Netherlands']\n",
            " ['China' 'China']\n",
            " ['China' 'China']\n",
            " ['Netherlands' 'Netherlands']\n",
            " ['Denmark' 'Denmark']\n",
            " ['Madagascar' 'Madagascar']\n",
            " ['China' 'China']\n",
            " ['USA' 'USA']\n",
            " ['Netherlands' 'Netherlands']\n",
            " ['USA' 'USA']\n",
            " ['Netherlands' 'Finland']\n",
            " ['China' 'USA']\n",
            " ['Denmark' 'Denmark']\n",
            " ['Netherlands' 'Netherlands']\n",
            " ['China' 'China']\n",
            " ['China' 'Sweden']\n",
            " ['USA' 'USA']\n",
            " ['Netherlands' 'Netherlands']\n",
            " ['Netherlands' 'China']\n",
            " ['China' 'Canada']\n",
            " ['Netherlands' 'Russia']\n",
            " ['Netherlands' 'Netherlands']\n",
            " ['China' 'China']\n",
            " ['USA' 'Finland']\n",
            " ['Denmark' 'Denmark']\n",
            " ['USA' 'USA']\n",
            " ['Netherlands' 'Netherlands']\n",
            " ['USA' 'USA']\n",
            " ['USA' 'USA']\n",
            " ['Netherlands' 'Netherlands']\n",
            " ['Netherlands' 'Netherlands']\n",
            " ['Denmark' 'Denmark']\n",
            " ['Denmark' 'Netherlands']\n",
            " ['Netherlands' 'Netherlands']\n",
            " ['Netherlands' 'Netherlands']\n",
            " ['Netherlands' 'Netherlands']\n",
            " ['Netherlands' 'Netherlands']\n",
            " ['Madagascar' 'Madagascar']\n",
            " ['USA' 'USA']\n",
            " ['China' 'China']\n",
            " ['China' 'Finland']\n",
            " ['USA' 'Finland']\n",
            " ['Madagascar' 'Madagascar']\n",
            " ['USA' 'USA']\n",
            " ['China' 'Sweden']\n",
            " ['China' 'China']\n",
            " ['China' 'Canada']\n",
            " ['Netherlands' 'Netherlands']\n",
            " ['China' 'Sweden']\n",
            " ['USA' 'Canada']\n",
            " ['Netherlands' 'Netherlands']\n",
            " ['Netherlands' 'Madagascar']\n",
            " ['China' 'Denmark']\n",
            " ['Netherlands' 'Netherlands']\n",
            " ['Netherlands' 'Netherlands']\n",
            " ['Netherlands' 'Netherlands']\n",
            " ['Denmark' 'Denmark']\n",
            " ['Denmark' 'Denmark']\n",
            " ['China' 'China']\n",
            " ['China' 'Canada']\n",
            " ['Netherlands' 'Netherlands']\n",
            " ['China' 'Madagascar']\n",
            " ['China' 'USA']\n",
            " ['Madagascar' 'Madagascar']\n",
            " ['China' 'China']\n",
            " ['China' 'Finland']\n",
            " ['Madagascar' 'Madagascar']\n",
            " ['China' 'China']\n",
            " ['Netherlands' 'Netherlands']\n",
            " ['Sweden' 'Netherlands']\n",
            " ['Netherlands' 'Netherlands']\n",
            " ['Netherlands' 'USA']\n",
            " ['Denmark' 'Egypt']\n",
            " ['China' 'Canada']\n",
            " ['China' 'China']\n",
            " ['China' 'USA']\n",
            " ['Netherlands' 'Netherlands']\n",
            " ['Madagascar' 'Madagascar']\n",
            " ['Netherlands' 'Netherlands']\n",
            " ['Denmark' 'Denmark']\n",
            " ['China' 'China']\n",
            " ['China' 'Madagascar']\n",
            " ['Denmark' 'Denmark']\n",
            " ['China' 'China']\n",
            " ['China' 'Madagascar']\n",
            " ['Netherlands' 'Denmark']\n",
            " ['Netherlands' 'Denmark']\n",
            " ['USA' 'USA']\n",
            " ['Netherlands' 'Netherlands']\n",
            " ['USA' 'USA']\n",
            " ['Madagascar' 'Madagascar']\n",
            " ['Denmark' 'USA']\n",
            " ['Netherlands' 'Netherlands']\n",
            " ['Netherlands' 'Netherlands']\n",
            " ['Madagascar' 'Netherlands']\n",
            " ['Denmark' 'China']\n",
            " ['Netherlands' 'Netherlands']\n",
            " ['Denmark' 'Madagascar']\n",
            " ['China' 'China']\n",
            " ['Denmark' 'Denmark']\n",
            " ['China' 'China']\n",
            " ['Netherlands' 'Netherlands']\n",
            " ['China' 'China']\n",
            " ['China' 'Sweden']\n",
            " ['China' 'Canada']\n",
            " ['China' 'Canada']\n",
            " ['China' 'China']\n",
            " ['China' 'China']\n",
            " ['China' 'China']\n",
            " ['China' 'China']\n",
            " ['Netherlands' 'Netherlands']]\n"
          ]
        }
      ]
    },
    {
      "cell_type": "code",
      "source": [
        "from sklearn.metrics import confusion_matrix, accuracy_score\n",
        "cm = confusion_matrix(y_test, y_pred)\n",
        "print(cm)\n",
        "accuracy_score(y_test, y_pred)"
      ],
      "metadata": {
        "colab": {
          "base_uri": "https://localhost:8080/"
        },
        "id": "GM22_d0RbQED",
        "outputId": "1636da20-bef9-433e-9b0c-624d98654b66"
      },
      "execution_count": null,
      "outputs": [
        {
          "output_type": "stream",
          "name": "stdout",
          "text": [
            "[[  0   7   0   0   0   0   0   0   0   0   1]\n",
            " [  0  54   4   0   0   0   4   8   0   2   4]\n",
            " [  0   7  27   0   0   0   1   8   0   0   1]\n",
            " [  0   1   1   0   0   0   0   0   0   0   0]\n",
            " [  0   6   0   0   0   0   0   2   0   0   2]\n",
            " [  0   0   0   0   0   0   0   4   0   1   0]\n",
            " [  0   6   4   0   0   0  20   1   0   0   1]\n",
            " [  0   3   3   0   0   0   1 106   0   1   0]\n",
            " [  0   2   0   0   0   0   0   1   0   0   2]\n",
            " [  0  12   1   0   0   0   0   2   0   1   1]\n",
            " [  0  11   4   0   0   0   0   4   0   0  31]]\n"
          ]
        },
        {
          "output_type": "execute_result",
          "data": {
            "text/plain": [
              "0.6584022038567493"
            ]
          },
          "metadata": {},
          "execution_count": 24
        }
      ]
    },
    {
      "cell_type": "code",
      "source": [
        "classifier.feature_importances_"
      ],
      "metadata": {
        "colab": {
          "base_uri": "https://localhost:8080/"
        },
        "id": "-T-VTy2UzUQ6",
        "outputId": "b441d982-a1fd-4272-c9f1-969c2e06f810"
      },
      "execution_count": null,
      "outputs": [
        {
          "output_type": "execute_result",
          "data": {
            "text/plain": [
              "array([0.23594675, 0.22206124, 0.16312876, 0.22203626, 0.12293449,\n",
              "       0.0338925 ])"
            ]
          },
          "metadata": {},
          "execution_count": 25
        }
      ]
    },
    {
      "cell_type": "code",
      "source": [
        "#Feature importance using Feature importance attribute in Random forest classifier\n",
        "feat_importances = pd.Series(classifier.feature_importances_, index=dataset.columns[0:6])\n",
        "feat_importances.nlargest(7).plot(kind='barh')\n",
        "plt.xlabel(\"Random Forest Feature Importance\")"
      ],
      "metadata": {
        "colab": {
          "base_uri": "https://localhost:8080/",
          "height": 296
        },
        "id": "n68dXgZ7zanI",
        "outputId": "78662089-2402-4ce1-bcfc-eb60985c5041"
      },
      "execution_count": null,
      "outputs": [
        {
          "output_type": "execute_result",
          "data": {
            "text/plain": [
              "Text(0.5, 0, 'Random Forest Feature Importance')"
            ]
          },
          "metadata": {},
          "execution_count": 27
        },
        {
          "output_type": "display_data",
          "data": {
            "image/png": "[encoded data removed]",
            "text/plain": [
              "<Figure size 432x288 with 1 Axes>"
            ]
          },
          "metadata": {
            "needs_background": "light"
          }
        }
      ]
    },
    {
      "cell_type": "code",
      "source": [
        "sorted_idx = classifier.feature_importances_.argsort()\n",
        "plt.barh(dataset.columns[0:7][sorted_idx], classifier.feature_importances_[sorted_idx])\n",
        "plt.xlabel(\"Random Forest Feature Importance\")"
      ],
      "metadata": {
        "id": "E1GgAsHizn5o",
        "outputId": "7a7056bf-db0f-4683-d5fe-33ab60ecc267",
        "colab": {
          "base_uri": "https://localhost:8080/",
          "height": 296
        }
      },
      "execution_count": null,
      "outputs": [
        {
          "output_type": "execute_result",
          "data": {
            "text/plain": [
              "Text(0.5, 0, 'Random Forest Feature Importance')"
            ]
          },
          "metadata": {},
          "execution_count": 28
        },
        {
          "output_type": "display_data",
          "data": {
            "image/png": "[encoded data removed]",
            "text/plain": [
              "<Figure size 432x288 with 1 Axes>"
            ]
          },
          "metadata": {
            "needs_background": "light"
          }
        }
      ]
    }
  ]
}