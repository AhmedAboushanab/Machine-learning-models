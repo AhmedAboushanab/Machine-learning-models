{
  "nbformat": 4,
  "nbformat_minor": 0,
  "metadata": {
    "colab": {
      "name": "Level_3 taxa_Logistic_Regression_Model.ipynb",
      "provenance": [],
      "collapsed_sections": [],
      "toc_visible": true,
      "machine_shape": "hm",
      "include_colab_link": true
    },
    "kernelspec": {
      "name": "python3",
      "display_name": "Python 3"
    }
  },
  "cells": [
    {
      "cell_type": "markdown",
      "metadata": {
        "id": "view-in-github",
        "colab_type": "text"
      },
      "source": [
        "<a href=\"https://colab.research.google.com/github/AhmedAboushanab/Machine-learning-models/blob/main/Level_3_taxa_Logistic_Regression_Model.ipynb\" target=\"_parent\"><img src=\"https://colab.research.google.com/assets/colab-badge.svg\" alt=\"Open In Colab\"/></a>"
      ]
    },
    {
      "cell_type": "markdown",
      "metadata": {
        "id": "0MRC0e0KhQ0S"
      },
      "source": [
        "# Logistic Regression"
      ]
    },
    {
      "cell_type": "markdown",
      "metadata": {
        "id": "LWd1UlMnhT2s"
      },
      "source": [
        "## Importing the libraries"
      ]
    },
    {
      "cell_type": "code",
      "metadata": {
        "id": "YvGPUQaHhXfL"
      },
      "source": [
        "import numpy as np\n",
        "import matplotlib.pyplot as plt\n",
        "import pandas as pd"
      ],
      "execution_count": 1,
      "outputs": []
    },
    {
      "cell_type": "markdown",
      "metadata": {
        "id": "K1VMqkGvhc3-"
      },
      "source": [
        "## Importing the dataset"
      ]
    },
    {
      "cell_type": "code",
      "metadata": {
        "id": "M52QDmyzhh9s"
      },
      "source": [
        "dataset = pd.read_csv('Total-L3.csv')\n",
        "X = dataset.iloc[:, :-1].values\n",
        "y = dataset.iloc[:, -1].values"
      ],
      "execution_count": 2,
      "outputs": []
    },
    {
      "cell_type": "markdown",
      "metadata": {
        "id": "9Hxph7OegUyP"
      },
      "source": [
        "**Encoding categorical output**"
      ]
    },
    {
      "cell_type": "code",
      "metadata": {
        "id": "aYTXB7ZIgTMK"
      },
      "source": [
        "from sklearn.preprocessing import LabelEncoder\r\n",
        "le = LabelEncoder()\r\n",
        "y = le.fit_transform(y)"
      ],
      "execution_count": 3,
      "outputs": []
    },
    {
      "cell_type": "code",
      "metadata": {
        "colab": {
          "base_uri": "https://localhost:8080/"
        },
        "id": "nl5VaEYMgiKv",
        "outputId": "15c0828e-223b-4473-8808-c264cd0b84e9"
      },
      "source": [
        "print(y)"
      ],
      "execution_count": 4,
      "outputs": [
        {
          "output_type": "stream",
          "text": [
            "[3 0 2 2 3 0 3 3 2 1 1 3 0 0 3 3 0 3 3 3 2 3 1 3 3 2 3 3 3 3 3 3 3 1 3 3 2\n",
            " 2 3 1 2 3 3 3 0 1 3 2 1 1 2 3 1 2 2 2 3 3 3 0 3 3 3 0 1 1 3 3 3 0 1 1 3 3\n",
            " 0 0 2 3 2 3 2 3 0 2 0 2 3 3 3 1 3 3 1 3 2 3 2 1 3 3 3 1 3 3 2 1 1 2 3 3 3\n",
            " 2 3 3 1 3 3 3 3 2 3 3 2 1 3 3 1 3 0 2 0 3 3 3 3 3 0 3 1 3 2 3 1 2 3 2 0 3\n",
            " 3 3 3 1 1 2 1 0 1 3 2 3 2 3 0 2 2 2 1 2 2 2 3 3 0 3 3 3 2 2 2 3 3 2 3 3 2\n",
            " 0 3 3 1 2 0 3 1 3 3 1 2 2 3 1 2 3 2 3 3 3 3 3 3 1 1 2 3 3 3 1 2 1 1 3 0 1\n",
            " 3 3 1 2 0 2 3 1 3 3 2 1 3 0 1 0 2 2 2 3 3 2 0 3 3 2 0 3 0 1 3 3 3 2 2 3 3\n",
            " 1 3 1 3 3 3 3 2 3 3 0 3 3 2 2 0 3 3 3 2 2 2 3 3 3 2 3 3 0 3 3 2 3 3 3 1 1\n",
            " 0 3 3 1 2 3 3 2 3 3 3 3 1 3 3 2 2 3 0 3 3 0 2 3 2 3 3 3 2 1 3 2 2 3 1 0 0\n",
            " 3 3 2 2 1 1 2 0 1 1 3 1 2 3 3 3 3 3 3 3 2 1 3 3 2 3 1 3 1 3 3 3 0 3 3 3 3\n",
            " 3 3 3 3 3 3 0 3 3 3 3 3 3 3 3 3 2 3 3 2 2 3 3 1 3 3 1 3 3 3 3 2 3 3 1 3 1\n",
            " 3 2 3 2 1 1 1 2 3 3 3 3 3 3 1 2 0 3 3 2 3 3 3 3 3 2 0 3 0 3 3 2 2 3 3 2 2\n",
            " 3 1 0 3 0 2 3 3 2 3 3 3 3 3 3 2 3 1 2 3 3 1 2 3 2 3 3 3 1 1 3 3 3 2 3 2 0\n",
            " 3 3 0 0 3 1 1 3 3 2 3 3 3 3 2 2 0 3 3 3 3 2 3 1 0 3 3 2 2 3 3 3 3 2 3 1 3\n",
            " 2 2 2 2 2 3 2 3 3 2 3 2 1 1 3 0 3 3 3 3 3 1 2 2 3 0 3 3 3 2 0 2 3 2 3 3 3\n",
            " 0 0 2 1 3 0 0 2 0 2 3 3 1 2 2 3 3 1 3 3 3 3 1 3 3 1 3 3 2 2 3 2 3 3 0 3 0\n",
            " 3 3 3 1 3 3 3 2 2 2 2 3 2 1 0 1 3 2 1 3 3 1 3 0 3 3 2 0 3 3 2 2 0 2 2 2 3\n",
            " 3 2 1 3 3 0 2 3 0 3 2 1 2 2 2 2 1 3 2 1 1 0 1 0 1 2 1 3 2 2 3 3 0 3 3 0 3\n",
            " 2 3 0 3 3 3 3 0 1 0 1 2 2 3 3 0 3 3 3 2 3 1 2 3 3 3 3 0 3 1 2 3 3 2 3 2 3\n",
            " 3 3 2 3 3 1 3 3 2 3 2 3 2 2 1 0 3 0 2 0 3 1 2 2 3 3 2 3 3 0 3 3 2 3 0 3 0\n",
            " 3 3 3 3 1 3 2 3 1 2 3 0 1 2 3 3 3 2 2 2 3 0 3 2 3 3 3 1 1 2 0 3 2 1 2 3 2\n",
            " 3 3 3 1 3 2 2 2 3 0 1 3 2 0 3 3 0 2 2 0 2 1 3 2 2 2 3 3 2 2 2 1 2 0 2 3 0\n",
            " 2 3 3 2 1 3 2 3 0 3 1 3 0 3 1 3 2 2 3 2 0 3 3 2 3 2 3 3 2 3 3 3 3 2 3 1 3\n",
            " 3 2 3 3 0 3 2 1 3 2 3 2 3 2 2 1 2 2 0 1 0 2 0 3 3 3 0 2 3 1 3 3 3 2 2 3 3\n",
            " 3 3 3 3 1 1 3 3 3 1 0 3 3 3 3 3 3 3 0 2 0 3 3 2 3 2 2 1 1 1 3 3 2 3 3 2 2\n",
            " 3 0 3 1 1 3 3 3 3 3 1 3 3 2 0 3 3 3 2 2 2 0 2 2 1 1 3 2 2 3 1 0 1 3 2 3 1\n",
            " 3 3 3 3 3 2 3 3 0 3 2 1 1 3 1 3 2 3 1 3 3 3 2 1 1 3 3 2]\n"
          ],
          "name": "stdout"
        }
      ]
    },
    {
      "cell_type": "markdown",
      "metadata": {
        "id": "YvxIPVyMhmKp"
      },
      "source": [
        "## Splitting the dataset into the Training set and Test set"
      ]
    },
    {
      "cell_type": "code",
      "metadata": {
        "id": "AVzJWAXIhxoC"
      },
      "source": [
        "from sklearn.model_selection import train_test_split\n",
        "X_train, X_test, y_train, y_test = train_test_split(X, y, test_size = 0.25, random_state = 0)"
      ],
      "execution_count": 5,
      "outputs": []
    },
    {
      "cell_type": "code",
      "metadata": {
        "id": "P3nS3-6r1i2B",
        "colab": {
          "base_uri": "https://localhost:8080/"
        },
        "outputId": "a4a4df64-6b9c-4dbc-ea64-10df173456bd"
      },
      "source": [
        "print(X_train)"
      ],
      "execution_count": 6,
      "outputs": [
        {
          "output_type": "stream",
          "text": [
            "[[6.049445e+01 7.123050e+00 2.827982e+01 4.720800e-01 4.763600e-01]\n",
            " [6.058091e+01 1.192676e+01 2.600190e+01 1.411000e-01 6.373000e-02]\n",
            " [6.332390e+00 3.630700e-01 2.930531e+01 5.595700e-01 1.008800e-01]\n",
            " ...\n",
            " [6.317682e+01 3.090800e-01 3.577642e+01 4.623600e-01 3.807000e-02]\n",
            " [5.898015e+01 5.050040e+00 1.833387e+01 4.797200e-01 0.000000e+00]\n",
            " [7.036849e+01 2.026042e+01 7.222120e+00 1.129420e+00 3.157000e-02]]\n"
          ],
          "name": "stdout"
        }
      ]
    },
    {
      "cell_type": "code",
      "metadata": {
        "id": "8dpDLojm1mVG",
        "colab": {
          "base_uri": "https://localhost:8080/"
        },
        "outputId": "18c9b62c-0bb1-4b1b-ffe8-9bbab30505c8"
      },
      "source": [
        "print(y_train)"
      ],
      "execution_count": 7,
      "outputs": [
        {
          "output_type": "stream",
          "text": [
            "[3 3 1 1 1 2 2 3 3 3 1 0 3 3 2 0 2 3 3 1 3 0 1 3 3 3 2 1 3 3 1 3 1 1 0 1 2\n",
            " 3 3 0 1 1 3 0 3 3 3 1 2 3 1 1 2 2 2 3 3 3 1 1 3 2 1 3 3 2 1 3 3 3 3 1 1 2\n",
            " 1 3 3 2 1 1 3 2 3 0 3 3 3 0 1 3 2 3 1 2 3 1 3 1 3 3 3 2 1 0 3 2 3 3 3 3 3\n",
            " 1 3 3 1 0 2 2 3 3 3 3 0 1 2 3 3 3 0 2 3 3 3 3 3 1 3 3 3 2 3 3 3 1 3 2 3 2\n",
            " 2 2 3 1 2 3 2 2 1 2 1 1 0 1 3 3 0 3 2 3 3 3 3 2 1 3 3 0 3 3 0 3 3 3 1 0 1\n",
            " 3 0 1 3 3 2 0 3 3 3 3 3 3 3 2 3 2 3 1 3 3 2 0 2 2 0 2 3 3 3 3 1 0 3 1 3 3\n",
            " 2 1 3 3 3 1 2 3 3 3 0 1 3 3 0 0 1 1 3 3 2 2 1 3 3 1 3 2 3 3 3 3 3 1 1 3 2\n",
            " 0 2 2 3 3 3 0 1 3 3 3 3 0 2 2 3 2 3 2 3 1 3 3 3 3 3 2 3 1 0 3 3 0 3 2 2 2\n",
            " 3 3 3 2 3 3 2 2 2 3 2 2 3 2 3 3 0 3 3 0 3 3 3 1 1 3 2 3 3 2 0 0 2 3 2 2 2\n",
            " 3 3 3 2 2 2 3 3 1 1 2 2 0 1 1 2 3 2 2 1 3 2 2 0 3 2 2 3 2 1 3 0 3 3 3 3 2\n",
            " 3 3 2 3 2 3 1 1 2 3 3 2 2 3 3 3 2 3 2 3 3 3 3 0 2 3 2 2 2 2 3 3 3 1 3 3 3\n",
            " 0 2 1 0 3 3 3 2 3 0 3 1 3 3 3 0 2 0 2 2 2 3 3 0 0 3 3 3 0 2 0 2 2 0 1 3 0\n",
            " 3 3 1 2 2 3 2 2 3 0 2 2 3 1 2 0 0 2 3 2 2 3 2 2 1 1 3 0 1 3 2 1 3 3 3 3 3\n",
            " 1 2 3 2 1 1 2 3 1 1 3 2 0 3 1 3 1 3 3 2 3 2 3 1 2 2 0 2 3 3 3 3 2 2 2 3 2\n",
            " 1 3 2 3 0 3 0 3 0 3 0 3 3 3 2 3 3 0 1 1 3 3 2 3 3 1 3 2 3 1 3 3 2 3 3 3 3\n",
            " 0 3 2 1 3 2 0 0 0 2 3 3 0 2 3 0 3 3 2 3 3 3 3 2 3 3 3 2 3 0 3 3 3 3 2 0 3\n",
            " 3 2 1 2 1 3 0 3 1 3 3 3 3 0 2 3 2 0 3 3 3 3 3 3 1 3 3 3 3 3 2 0 2 3 2 3 2\n",
            " 3 3 0 3 3 3 3 2 3 2 3 3 2 3 0 2 2 2 3 0 3 3 3 3 3 3 0 3 3 2 1 3 3 3 3 3 3\n",
            " 2 3 3 3 2 2 3 3 3 3 2 0 0 2 3 3 3 2 3 0 1 0 3 0 3 2 3 3 3 0 3 3 3 2 0 2 3\n",
            " 3 0 3 2 3 3 3 1 3 3 3 3 2 1 1 3 3 2 1 2 0 1 2 1 1 2 3 3 3 3 1 1 3 2 3 1 3\n",
            " 3 3]\n"
          ],
          "name": "stdout"
        }
      ]
    },
    {
      "cell_type": "code",
      "metadata": {
        "id": "qbb7i0DH1qui",
        "colab": {
          "base_uri": "https://localhost:8080/"
        },
        "outputId": "a3a93a67-d602-44c0-cfc4-3d156b011c76"
      },
      "source": [
        "print(X_test)"
      ],
      "execution_count": 8,
      "outputs": [
        {
          "output_type": "stream",
          "text": [
            "[[7.030597e+01 1.151193e+01 1.289688e+01 1.477990e+00 3.323000e-02]\n",
            " [2.217808e+01 1.667790e+00 6.822255e+01 4.481180e+00 1.250000e-03]\n",
            " [4.205322e+01 9.031110e+00 4.681473e+01 1.229200e+00 2.283000e-02]\n",
            " ...\n",
            " [3.105221e+01 1.483600e-01 6.432448e+01 4.527000e-02 4.900000e-04]\n",
            " [6.660927e+01 1.184625e+01 1.856356e+01 1.100900e-01 1.016000e-02]\n",
            " [3.185581e+01 2.670048e+01 2.374339e+01 6.878000e-02 3.558220e+00]]\n"
          ],
          "name": "stdout"
        }
      ]
    },
    {
      "cell_type": "code",
      "metadata": {
        "id": "kj1hnFAR1s5w",
        "colab": {
          "base_uri": "https://localhost:8080/"
        },
        "outputId": "cdf2b9fb-02c4-4f87-ecc6-6b65297f5d21"
      },
      "source": [
        "print(y_test)"
      ],
      "execution_count": 9,
      "outputs": [
        {
          "output_type": "stream",
          "text": [
            "[3 2 3 2 1 3 3 3 3 2 3 1 2 3 1 3 3 1 3 3 3 3 3 3 3 2 3 2 1 3 2 3 0 3 2 3 3\n",
            " 3 3 1 3 2 3 0 1 2 2 3 3 3 3 0 3 1 3 2 2 1 1 2 1 3 3 3 1 2 3 3 1 3 2 1 2 3\n",
            " 3 1 1 0 2 3 2 2 0 2 3 2 0 3 2 1 3 3 2 0 3 1 3 3 2 3 2 1 2 3 3 0 1 3 1 3 2\n",
            " 3 0 2 3 3 3 3 2 3 0 0 3 1 2 3 1 2 2 2 1 3 2 2 3 2 2 3 2 3 3 3 2 1 2 3 2 3\n",
            " 3 1 3 3 0 3 3 3 3 2 3 0 2 3 2 3 3 3 3 3 2 2 3 3 3 1 1 3 3 3 3 2 0 3 3 3 2\n",
            " 2 3 3 3 2 3 3 2 3 3 2 0 3 2 2 0 3 0 2 1 2 3 3 1 3 3 3 3 3 2 2 1 3 3 3 3 3\n",
            " 3 2 2 2 2 3 3 0 1 2 2 3 3 1 2 3 0 3 2 2 3 3 1 0 3 0]\n"
          ],
          "name": "stdout"
        }
      ]
    },
    {
      "cell_type": "markdown",
      "metadata": {
        "id": "bb6jCOCQiAmP"
      },
      "source": [
        "## Training the Logistic Regression model on the Training set"
      ]
    },
    {
      "cell_type": "code",
      "metadata": {
        "id": "e0pFVAmciHQs",
        "colab": {
          "base_uri": "https://localhost:8080/"
        },
        "outputId": "9b7a4acc-3c78-423f-d879-e7ccf3b3f522"
      },
      "source": [
        "from sklearn.linear_model import LogisticRegression\n",
        "classifier = LogisticRegression(random_state = 0)\n",
        "classifier.fit(X_train, y_train)"
      ],
      "execution_count": 10,
      "outputs": [
        {
          "output_type": "stream",
          "text": [
            "/usr/local/lib/python3.7/dist-packages/sklearn/linear_model/_logistic.py:940: ConvergenceWarning: lbfgs failed to converge (status=1):\n",
            "STOP: TOTAL NO. of ITERATIONS REACHED LIMIT.\n",
            "\n",
            "Increase the number of iterations (max_iter) or scale the data as shown in:\n",
            "    https://scikit-learn.org/stable/modules/preprocessing.html\n",
            "Please also refer to the documentation for alternative solver options:\n",
            "    https://scikit-learn.org/stable/modules/linear_model.html#logistic-regression\n",
            "  extra_warning_msg=_LOGISTIC_SOLVER_CONVERGENCE_MSG)\n"
          ],
          "name": "stderr"
        },
        {
          "output_type": "execute_result",
          "data": {
            "text/plain": [
              "LogisticRegression(C=1.0, class_weight=None, dual=False, fit_intercept=True,\n",
              "                   intercept_scaling=1, l1_ratio=None, max_iter=100,\n",
              "                   multi_class='auto', n_jobs=None, penalty='l2',\n",
              "                   random_state=0, solver='lbfgs', tol=0.0001, verbose=0,\n",
              "                   warm_start=False)"
            ]
          },
          "metadata": {
            "tags": []
          },
          "execution_count": 10
        }
      ]
    },
    {
      "cell_type": "markdown",
      "metadata": {
        "id": "vKYVQH-l5NpE"
      },
      "source": [
        "## Predicting the Test set results"
      ]
    },
    {
      "cell_type": "code",
      "metadata": {
        "id": "p6VMTb2O4hwM",
        "colab": {
          "base_uri": "https://localhost:8080/"
        },
        "outputId": "cb208a3b-94d5-46b9-c6f7-cbfa03674cd1"
      },
      "source": [
        "y_pred = classifier.predict(X_test)\n",
        "print(np.concatenate((y_pred.reshape(len(y_pred),1), y_test.reshape(len(y_test),1)),1))"
      ],
      "execution_count": 11,
      "outputs": [
        {
          "output_type": "stream",
          "text": [
            "[[3 3]\n",
            " [2 2]\n",
            " [3 3]\n",
            " [2 2]\n",
            " [1 1]\n",
            " [3 3]\n",
            " [3 3]\n",
            " [3 3]\n",
            " [3 3]\n",
            " [3 2]\n",
            " [3 3]\n",
            " [1 1]\n",
            " [3 2]\n",
            " [3 3]\n",
            " [1 1]\n",
            " [2 3]\n",
            " [3 3]\n",
            " [1 1]\n",
            " [3 3]\n",
            " [3 3]\n",
            " [3 3]\n",
            " [2 3]\n",
            " [3 3]\n",
            " [3 3]\n",
            " [2 3]\n",
            " [3 2]\n",
            " [3 3]\n",
            " [2 2]\n",
            " [0 1]\n",
            " [3 3]\n",
            " [3 2]\n",
            " [3 3]\n",
            " [1 0]\n",
            " [3 3]\n",
            " [2 2]\n",
            " [3 3]\n",
            " [3 3]\n",
            " [3 3]\n",
            " [3 3]\n",
            " [1 1]\n",
            " [3 3]\n",
            " [2 2]\n",
            " [3 3]\n",
            " [2 0]\n",
            " [1 1]\n",
            " [3 2]\n",
            " [0 2]\n",
            " [3 3]\n",
            " [3 3]\n",
            " [3 3]\n",
            " [3 3]\n",
            " [3 0]\n",
            " [3 3]\n",
            " [1 1]\n",
            " [3 3]\n",
            " [2 2]\n",
            " [2 2]\n",
            " [1 1]\n",
            " [2 1]\n",
            " [3 2]\n",
            " [2 1]\n",
            " [3 3]\n",
            " [3 3]\n",
            " [3 3]\n",
            " [1 1]\n",
            " [2 2]\n",
            " [3 3]\n",
            " [2 3]\n",
            " [0 1]\n",
            " [3 3]\n",
            " [3 2]\n",
            " [0 1]\n",
            " [0 2]\n",
            " [2 3]\n",
            " [3 3]\n",
            " [1 1]\n",
            " [2 1]\n",
            " [0 0]\n",
            " [0 2]\n",
            " [3 3]\n",
            " [2 2]\n",
            " [2 2]\n",
            " [0 0]\n",
            " [2 2]\n",
            " [3 3]\n",
            " [3 2]\n",
            " [2 0]\n",
            " [3 3]\n",
            " [2 2]\n",
            " [2 1]\n",
            " [3 3]\n",
            " [2 3]\n",
            " [2 2]\n",
            " [2 0]\n",
            " [3 3]\n",
            " [0 1]\n",
            " [3 3]\n",
            " [3 3]\n",
            " [3 2]\n",
            " [3 3]\n",
            " [2 2]\n",
            " [1 1]\n",
            " [0 2]\n",
            " [3 3]\n",
            " [3 3]\n",
            " [2 0]\n",
            " [1 1]\n",
            " [3 3]\n",
            " [1 1]\n",
            " [3 3]\n",
            " [2 2]\n",
            " [3 3]\n",
            " [2 0]\n",
            " [2 2]\n",
            " [3 3]\n",
            " [3 3]\n",
            " [3 3]\n",
            " [3 3]\n",
            " [2 2]\n",
            " [3 3]\n",
            " [0 0]\n",
            " [3 0]\n",
            " [3 3]\n",
            " [1 1]\n",
            " [2 2]\n",
            " [2 3]\n",
            " [2 1]\n",
            " [2 2]\n",
            " [3 2]\n",
            " [2 2]\n",
            " [1 1]\n",
            " [3 3]\n",
            " [2 2]\n",
            " [3 2]\n",
            " [3 3]\n",
            " [2 2]\n",
            " [0 2]\n",
            " [3 3]\n",
            " [2 2]\n",
            " [3 3]\n",
            " [3 3]\n",
            " [3 3]\n",
            " [2 2]\n",
            " [3 1]\n",
            " [0 2]\n",
            " [3 3]\n",
            " [2 2]\n",
            " [3 3]\n",
            " [3 3]\n",
            " [1 1]\n",
            " [3 3]\n",
            " [2 3]\n",
            " [3 0]\n",
            " [3 3]\n",
            " [3 3]\n",
            " [3 3]\n",
            " [3 3]\n",
            " [2 2]\n",
            " [3 3]\n",
            " [2 0]\n",
            " [3 2]\n",
            " [3 3]\n",
            " [0 2]\n",
            " [3 3]\n",
            " [3 3]\n",
            " [3 3]\n",
            " [3 3]\n",
            " [3 3]\n",
            " [2 2]\n",
            " [0 2]\n",
            " [3 3]\n",
            " [3 3]\n",
            " [2 3]\n",
            " [2 1]\n",
            " [1 1]\n",
            " [3 3]\n",
            " [3 3]\n",
            " [3 3]\n",
            " [3 3]\n",
            " [3 2]\n",
            " [0 0]\n",
            " [2 3]\n",
            " [3 3]\n",
            " [2 3]\n",
            " [0 2]\n",
            " [3 2]\n",
            " [3 3]\n",
            " [3 3]\n",
            " [3 3]\n",
            " [3 2]\n",
            " [3 3]\n",
            " [2 3]\n",
            " [3 2]\n",
            " [2 3]\n",
            " [2 3]\n",
            " [2 2]\n",
            " [0 0]\n",
            " [3 3]\n",
            " [3 2]\n",
            " [2 2]\n",
            " [2 0]\n",
            " [3 3]\n",
            " [0 0]\n",
            " [2 2]\n",
            " [1 1]\n",
            " [3 2]\n",
            " [3 3]\n",
            " [3 3]\n",
            " [1 1]\n",
            " [3 3]\n",
            " [3 3]\n",
            " [3 3]\n",
            " [3 3]\n",
            " [3 3]\n",
            " [2 2]\n",
            " [3 2]\n",
            " [2 1]\n",
            " [1 3]\n",
            " [3 3]\n",
            " [3 3]\n",
            " [3 3]\n",
            " [3 3]\n",
            " [3 3]\n",
            " [2 2]\n",
            " [2 2]\n",
            " [3 2]\n",
            " [1 2]\n",
            " [3 3]\n",
            " [3 3]\n",
            " [0 0]\n",
            " [2 1]\n",
            " [2 2]\n",
            " [3 2]\n",
            " [2 3]\n",
            " [3 3]\n",
            " [3 1]\n",
            " [0 2]\n",
            " [3 3]\n",
            " [0 0]\n",
            " [3 3]\n",
            " [0 2]\n",
            " [3 2]\n",
            " [3 3]\n",
            " [3 3]\n",
            " [3 1]\n",
            " [0 0]\n",
            " [3 3]\n",
            " [3 0]]\n"
          ],
          "name": "stdout"
        }
      ]
    },
    {
      "cell_type": "markdown",
      "metadata": {
        "id": "h4Hwj34ziWQW"
      },
      "source": [
        "## Making the Confusion Matrix"
      ]
    },
    {
      "cell_type": "code",
      "metadata": {
        "id": "D6bpZwUiiXic",
        "colab": {
          "base_uri": "https://localhost:8080/"
        },
        "outputId": "421cf2ec-a495-421c-b78c-0fae02bffcd9"
      },
      "source": [
        "from sklearn.metrics import confusion_matrix, accuracy_score\n",
        "cm = confusion_matrix(y_test, y_pred)\n",
        "print(cm)\n",
        "accuracy_score(y_test, y_pred)"
      ],
      "execution_count": 12,
      "outputs": [
        {
          "output_type": "stream",
          "text": [
            "[[  9   1   7   4]\n",
            " [  4  19   8   3]\n",
            " [ 11   1  34  22]\n",
            " [  0   1  15 109]]\n"
          ],
          "name": "stdout"
        },
        {
          "output_type": "execute_result",
          "data": {
            "text/plain": [
              "0.6895161290322581"
            ]
          },
          "metadata": {
            "tags": []
          },
          "execution_count": 12
        }
      ]
    }
  ]
}